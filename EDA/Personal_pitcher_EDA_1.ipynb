{
 "cells": [
  {
   "cell_type": "code",
   "execution_count": 1,
   "metadata": {},
   "outputs": [
    {
     "data": {
      "text/html": [
       "        <script type=\"text/javascript\">\n",
       "        window.PlotlyConfig = {MathJaxConfig: 'local'};\n",
       "        if (window.MathJax) {MathJax.Hub.Config({SVG: {font: \"STIX-Web\"}});}\n",
       "        if (typeof require !== 'undefined') {\n",
       "        require.undef(\"plotly\");\n",
       "        requirejs.config({\n",
       "            paths: {\n",
       "                'plotly': ['https://cdn.plot.ly/plotly-latest.min']\n",
       "            }\n",
       "        });\n",
       "        require(['plotly'], function(Plotly) {\n",
       "            window._Plotly = Plotly;\n",
       "        });\n",
       "        }\n",
       "        </script>\n",
       "        "
      ]
     },
     "metadata": {},
     "output_type": "display_data"
    }
   ],
   "source": [
    "import pandas as pd\n",
    "import chart_studio.plotly as py\n",
    "import cufflinks as cf\n",
    "cf.go_offline(connected=True)"
   ]
  },
  {
   "cell_type": "code",
   "execution_count": 20,
   "metadata": {},
   "outputs": [],
   "source": [
    "PATH = \"../../Data/sheet_season_csv/\"\n",
    "personal_pitcher_2016 = pd.read_csv(PATH + \"2020빅콘테스트_스포츠투아이_제공데이터_개인투수_2016.csv\", encoding='CP949')\n",
    "personal_pitcher_2017 = pd.read_csv(PATH + \"2020빅콘테스트_스포츠투아이_제공데이터_개인투수_2017.csv\", encoding='CP949')\n",
    "personal_pitcher_2018 = pd.read_csv(PATH + \"2020빅콘테스트_스포츠투아이_제공데이터_개인투수_2018.csv\", encoding='CP949')\n",
    "personal_pitcher_2019 = pd.read_csv(PATH + \"2020빅콘테스트_스포츠투아이_제공데이터_개인투수_2019.csv\", encoding='CP949')\n",
    "personal_pitcher_2020 = pd.read_csv(PATH + \"2020빅콘테스트_스포츠투아이_제공데이터_개인투수_2020.csv\", encoding='CP949')"
   ]
  },
  {
   "cell_type": "code",
   "execution_count": 34,
   "metadata": {},
   "outputs": [
    {
     "data": {
      "text/html": [
       "<div>\n",
       "<style scoped>\n",
       "    .dataframe tbody tr th:only-of-type {\n",
       "        vertical-align: middle;\n",
       "    }\n",
       "\n",
       "    .dataframe tbody tr th {\n",
       "        vertical-align: top;\n",
       "    }\n",
       "\n",
       "    .dataframe thead th {\n",
       "        text-align: right;\n",
       "    }\n",
       "</style>\n",
       "<table border=\"1\" class=\"dataframe\">\n",
       "  <thead>\n",
       "    <tr style=\"text-align: right;\">\n",
       "      <th></th>\n",
       "      <th>G_ID</th>\n",
       "      <th>GDAY_DS</th>\n",
       "      <th>T_ID</th>\n",
       "      <th>VS_T_ID</th>\n",
       "      <th>HEADER_NO</th>\n",
       "      <th>TB_SC</th>\n",
       "      <th>P_ID</th>\n",
       "      <th>START_CK</th>\n",
       "      <th>RELIEF_CK</th>\n",
       "      <th>CG_CK</th>\n",
       "      <th>...</th>\n",
       "      <th>KK</th>\n",
       "      <th>GD</th>\n",
       "      <th>WP</th>\n",
       "      <th>BK</th>\n",
       "      <th>ERR</th>\n",
       "      <th>R</th>\n",
       "      <th>ER</th>\n",
       "      <th>P_WHIP_RT</th>\n",
       "      <th>P2_WHIP_RT</th>\n",
       "      <th>CB_WHIP_RT</th>\n",
       "    </tr>\n",
       "  </thead>\n",
       "  <tbody>\n",
       "    <tr>\n",
       "      <th>0</th>\n",
       "      <td>20160401HHLG0</td>\n",
       "      <td>20160401</td>\n",
       "      <td>LG</td>\n",
       "      <td>HH</td>\n",
       "      <td>0</td>\n",
       "      <td>B</td>\n",
       "      <td>60146</td>\n",
       "      <td>0</td>\n",
       "      <td>1</td>\n",
       "      <td>0</td>\n",
       "      <td>...</td>\n",
       "      <td>3</td>\n",
       "      <td>0</td>\n",
       "      <td>0</td>\n",
       "      <td>0</td>\n",
       "      <td>0</td>\n",
       "      <td>0</td>\n",
       "      <td>0</td>\n",
       "      <td>0.000000</td>\n",
       "      <td>1.000000</td>\n",
       "      <td>1.50</td>\n",
       "    </tr>\n",
       "    <tr>\n",
       "      <th>1</th>\n",
       "      <td>20160401HHLG0</td>\n",
       "      <td>20160401</td>\n",
       "      <td>LG</td>\n",
       "      <td>HH</td>\n",
       "      <td>0</td>\n",
       "      <td>B</td>\n",
       "      <td>61891</td>\n",
       "      <td>0</td>\n",
       "      <td>1</td>\n",
       "      <td>0</td>\n",
       "      <td>...</td>\n",
       "      <td>1</td>\n",
       "      <td>0</td>\n",
       "      <td>0</td>\n",
       "      <td>0</td>\n",
       "      <td>0</td>\n",
       "      <td>0</td>\n",
       "      <td>0</td>\n",
       "      <td>0.000000</td>\n",
       "      <td>1.800000</td>\n",
       "      <td>1.50</td>\n",
       "    </tr>\n",
       "    <tr>\n",
       "      <th>2</th>\n",
       "      <td>20160401HHLG0</td>\n",
       "      <td>20160401</td>\n",
       "      <td>LG</td>\n",
       "      <td>HH</td>\n",
       "      <td>0</td>\n",
       "      <td>B</td>\n",
       "      <td>62146</td>\n",
       "      <td>0</td>\n",
       "      <td>1</td>\n",
       "      <td>0</td>\n",
       "      <td>...</td>\n",
       "      <td>0</td>\n",
       "      <td>0</td>\n",
       "      <td>0</td>\n",
       "      <td>0</td>\n",
       "      <td>0</td>\n",
       "      <td>0</td>\n",
       "      <td>0</td>\n",
       "      <td>0.000000</td>\n",
       "      <td>3.000000</td>\n",
       "      <td>0.00</td>\n",
       "    </tr>\n",
       "    <tr>\n",
       "      <th>3</th>\n",
       "      <td>20160401HHLG0</td>\n",
       "      <td>20160401</td>\n",
       "      <td>LG</td>\n",
       "      <td>HH</td>\n",
       "      <td>0</td>\n",
       "      <td>B</td>\n",
       "      <td>62698</td>\n",
       "      <td>1</td>\n",
       "      <td>0</td>\n",
       "      <td>0</td>\n",
       "      <td>...</td>\n",
       "      <td>4</td>\n",
       "      <td>1</td>\n",
       "      <td>0</td>\n",
       "      <td>0</td>\n",
       "      <td>0</td>\n",
       "      <td>4</td>\n",
       "      <td>4</td>\n",
       "      <td>0.818182</td>\n",
       "      <td>1.588235</td>\n",
       "      <td>3.75</td>\n",
       "    </tr>\n",
       "    <tr>\n",
       "      <th>4</th>\n",
       "      <td>20160401HHLG0</td>\n",
       "      <td>20160401</td>\n",
       "      <td>HH</td>\n",
       "      <td>LG</td>\n",
       "      <td>0</td>\n",
       "      <td>T</td>\n",
       "      <td>65764</td>\n",
       "      <td>0</td>\n",
       "      <td>1</td>\n",
       "      <td>0</td>\n",
       "      <td>...</td>\n",
       "      <td>1</td>\n",
       "      <td>0</td>\n",
       "      <td>0</td>\n",
       "      <td>0</td>\n",
       "      <td>0</td>\n",
       "      <td>1</td>\n",
       "      <td>1</td>\n",
       "      <td>0.000000</td>\n",
       "      <td>1.500000</td>\n",
       "      <td>0.00</td>\n",
       "    </tr>\n",
       "    <tr>\n",
       "      <th>5</th>\n",
       "      <td>20160401HHLG0</td>\n",
       "      <td>20160401</td>\n",
       "      <td>LG</td>\n",
       "      <td>HH</td>\n",
       "      <td>0</td>\n",
       "      <td>B</td>\n",
       "      <td>70839</td>\n",
       "      <td>0</td>\n",
       "      <td>1</td>\n",
       "      <td>0</td>\n",
       "      <td>...</td>\n",
       "      <td>1</td>\n",
       "      <td>0</td>\n",
       "      <td>0</td>\n",
       "      <td>0</td>\n",
       "      <td>0</td>\n",
       "      <td>0</td>\n",
       "      <td>0</td>\n",
       "      <td>0.000000</td>\n",
       "      <td>0.000000</td>\n",
       "      <td>0.00</td>\n",
       "    </tr>\n",
       "    <tr>\n",
       "      <th>6</th>\n",
       "      <td>20160401HHLG0</td>\n",
       "      <td>20160401</td>\n",
       "      <td>LG</td>\n",
       "      <td>HH</td>\n",
       "      <td>0</td>\n",
       "      <td>B</td>\n",
       "      <td>71118</td>\n",
       "      <td>0</td>\n",
       "      <td>1</td>\n",
       "      <td>0</td>\n",
       "      <td>...</td>\n",
       "      <td>1</td>\n",
       "      <td>0</td>\n",
       "      <td>0</td>\n",
       "      <td>0</td>\n",
       "      <td>0</td>\n",
       "      <td>0</td>\n",
       "      <td>0</td>\n",
       "      <td>0.000000</td>\n",
       "      <td>0.000000</td>\n",
       "      <td>0.00</td>\n",
       "    </tr>\n",
       "    <tr>\n",
       "      <th>7</th>\n",
       "      <td>20160401HHLG0</td>\n",
       "      <td>20160401</td>\n",
       "      <td>HH</td>\n",
       "      <td>LG</td>\n",
       "      <td>0</td>\n",
       "      <td>T</td>\n",
       "      <td>72447</td>\n",
       "      <td>0</td>\n",
       "      <td>1</td>\n",
       "      <td>0</td>\n",
       "      <td>...</td>\n",
       "      <td>2</td>\n",
       "      <td>0</td>\n",
       "      <td>0</td>\n",
       "      <td>0</td>\n",
       "      <td>0</td>\n",
       "      <td>0</td>\n",
       "      <td>0</td>\n",
       "      <td>0.000000</td>\n",
       "      <td>0.500000</td>\n",
       "      <td>1.50</td>\n",
       "    </tr>\n",
       "    <tr>\n",
       "      <th>8</th>\n",
       "      <td>20160401HHLG0</td>\n",
       "      <td>20160401</td>\n",
       "      <td>HH</td>\n",
       "      <td>LG</td>\n",
       "      <td>0</td>\n",
       "      <td>T</td>\n",
       "      <td>73801</td>\n",
       "      <td>1</td>\n",
       "      <td>0</td>\n",
       "      <td>0</td>\n",
       "      <td>...</td>\n",
       "      <td>4</td>\n",
       "      <td>0</td>\n",
       "      <td>0</td>\n",
       "      <td>0</td>\n",
       "      <td>0</td>\n",
       "      <td>3</td>\n",
       "      <td>3</td>\n",
       "      <td>1.500000</td>\n",
       "      <td>1.500000</td>\n",
       "      <td>1.50</td>\n",
       "    </tr>\n",
       "    <tr>\n",
       "      <th>9</th>\n",
       "      <td>20160401HHLG0</td>\n",
       "      <td>20160401</td>\n",
       "      <td>HH</td>\n",
       "      <td>LG</td>\n",
       "      <td>0</td>\n",
       "      <td>T</td>\n",
       "      <td>74731</td>\n",
       "      <td>0</td>\n",
       "      <td>1</td>\n",
       "      <td>0</td>\n",
       "      <td>...</td>\n",
       "      <td>1</td>\n",
       "      <td>0</td>\n",
       "      <td>0</td>\n",
       "      <td>0</td>\n",
       "      <td>0</td>\n",
       "      <td>1</td>\n",
       "      <td>0</td>\n",
       "      <td>0.000000</td>\n",
       "      <td>6.000000</td>\n",
       "      <td>0.00</td>\n",
       "    </tr>\n",
       "    <tr>\n",
       "      <th>10</th>\n",
       "      <td>20160401HHLG0</td>\n",
       "      <td>20160401</td>\n",
       "      <td>HH</td>\n",
       "      <td>LG</td>\n",
       "      <td>0</td>\n",
       "      <td>T</td>\n",
       "      <td>74857</td>\n",
       "      <td>0</td>\n",
       "      <td>1</td>\n",
       "      <td>0</td>\n",
       "      <td>...</td>\n",
       "      <td>2</td>\n",
       "      <td>0</td>\n",
       "      <td>0</td>\n",
       "      <td>0</td>\n",
       "      <td>0</td>\n",
       "      <td>0</td>\n",
       "      <td>0</td>\n",
       "      <td>0.000000</td>\n",
       "      <td>0.000000</td>\n",
       "      <td>0.00</td>\n",
       "    </tr>\n",
       "    <tr>\n",
       "      <th>11</th>\n",
       "      <td>20160401HHLG0</td>\n",
       "      <td>20160401</td>\n",
       "      <td>HH</td>\n",
       "      <td>LG</td>\n",
       "      <td>0</td>\n",
       "      <td>T</td>\n",
       "      <td>99737</td>\n",
       "      <td>0</td>\n",
       "      <td>1</td>\n",
       "      <td>0</td>\n",
       "      <td>...</td>\n",
       "      <td>1</td>\n",
       "      <td>0</td>\n",
       "      <td>1</td>\n",
       "      <td>0</td>\n",
       "      <td>0</td>\n",
       "      <td>0</td>\n",
       "      <td>0</td>\n",
       "      <td>1.000000</td>\n",
       "      <td>1.200000</td>\n",
       "      <td>0.00</td>\n",
       "    </tr>\n",
       "    <tr>\n",
       "      <th>12</th>\n",
       "      <td>20160401HTNC0</td>\n",
       "      <td>20160401</td>\n",
       "      <td>NC</td>\n",
       "      <td>HT</td>\n",
       "      <td>0</td>\n",
       "      <td>B</td>\n",
       "      <td>62966</td>\n",
       "      <td>0</td>\n",
       "      <td>1</td>\n",
       "      <td>0</td>\n",
       "      <td>...</td>\n",
       "      <td>2</td>\n",
       "      <td>0</td>\n",
       "      <td>0</td>\n",
       "      <td>0</td>\n",
       "      <td>0</td>\n",
       "      <td>0</td>\n",
       "      <td>0</td>\n",
       "      <td>0.000000</td>\n",
       "      <td>1.000000</td>\n",
       "      <td>0.00</td>\n",
       "    </tr>\n",
       "    <tr>\n",
       "      <th>13</th>\n",
       "      <td>20160401HTNC0</td>\n",
       "      <td>20160401</td>\n",
       "      <td>NC</td>\n",
       "      <td>HT</td>\n",
       "      <td>0</td>\n",
       "      <td>B</td>\n",
       "      <td>63938</td>\n",
       "      <td>1</td>\n",
       "      <td>0</td>\n",
       "      <td>0</td>\n",
       "      <td>...</td>\n",
       "      <td>5</td>\n",
       "      <td>1</td>\n",
       "      <td>2</td>\n",
       "      <td>0</td>\n",
       "      <td>0</td>\n",
       "      <td>4</td>\n",
       "      <td>4</td>\n",
       "      <td>1.200000</td>\n",
       "      <td>1.125000</td>\n",
       "      <td>2.40</td>\n",
       "    </tr>\n",
       "    <tr>\n",
       "      <th>14</th>\n",
       "      <td>20160401HTNC0</td>\n",
       "      <td>20160401</td>\n",
       "      <td>HT</td>\n",
       "      <td>NC</td>\n",
       "      <td>0</td>\n",
       "      <td>T</td>\n",
       "      <td>66628</td>\n",
       "      <td>0</td>\n",
       "      <td>1</td>\n",
       "      <td>0</td>\n",
       "      <td>...</td>\n",
       "      <td>2</td>\n",
       "      <td>0</td>\n",
       "      <td>0</td>\n",
       "      <td>0</td>\n",
       "      <td>0</td>\n",
       "      <td>1</td>\n",
       "      <td>1</td>\n",
       "      <td>1.000000</td>\n",
       "      <td>2.000000</td>\n",
       "      <td>1.50</td>\n",
       "    </tr>\n",
       "    <tr>\n",
       "      <th>15</th>\n",
       "      <td>20160401HTNC0</td>\n",
       "      <td>20160401</td>\n",
       "      <td>NC</td>\n",
       "      <td>HT</td>\n",
       "      <td>0</td>\n",
       "      <td>B</td>\n",
       "      <td>75867</td>\n",
       "      <td>0</td>\n",
       "      <td>1</td>\n",
       "      <td>0</td>\n",
       "      <td>...</td>\n",
       "      <td>0</td>\n",
       "      <td>0</td>\n",
       "      <td>0</td>\n",
       "      <td>0</td>\n",
       "      <td>0</td>\n",
       "      <td>0</td>\n",
       "      <td>0</td>\n",
       "      <td>6.000000</td>\n",
       "      <td>1.500000</td>\n",
       "      <td>0.00</td>\n",
       "    </tr>\n",
       "    <tr>\n",
       "      <th>16</th>\n",
       "      <td>20160401HTNC0</td>\n",
       "      <td>20160401</td>\n",
       "      <td>HT</td>\n",
       "      <td>NC</td>\n",
       "      <td>0</td>\n",
       "      <td>T</td>\n",
       "      <td>77637</td>\n",
       "      <td>1</td>\n",
       "      <td>0</td>\n",
       "      <td>0</td>\n",
       "      <td>...</td>\n",
       "      <td>7</td>\n",
       "      <td>1</td>\n",
       "      <td>0</td>\n",
       "      <td>0</td>\n",
       "      <td>0</td>\n",
       "      <td>4</td>\n",
       "      <td>4</td>\n",
       "      <td>0.000000</td>\n",
       "      <td>1.588235</td>\n",
       "      <td>2.00</td>\n",
       "    </tr>\n",
       "    <tr>\n",
       "      <th>17</th>\n",
       "      <td>20160401HTNC0</td>\n",
       "      <td>20160401</td>\n",
       "      <td>NC</td>\n",
       "      <td>HT</td>\n",
       "      <td>0</td>\n",
       "      <td>B</td>\n",
       "      <td>78352</td>\n",
       "      <td>0</td>\n",
       "      <td>1</td>\n",
       "      <td>0</td>\n",
       "      <td>...</td>\n",
       "      <td>3</td>\n",
       "      <td>0</td>\n",
       "      <td>0</td>\n",
       "      <td>0</td>\n",
       "      <td>0</td>\n",
       "      <td>0</td>\n",
       "      <td>0</td>\n",
       "      <td>0.000000</td>\n",
       "      <td>0.000000</td>\n",
       "      <td>0.00</td>\n",
       "    </tr>\n",
       "    <tr>\n",
       "      <th>18</th>\n",
       "      <td>20160401KTSK0</td>\n",
       "      <td>20160401</td>\n",
       "      <td>SK</td>\n",
       "      <td>KT</td>\n",
       "      <td>0</td>\n",
       "      <td>B</td>\n",
       "      <td>62056</td>\n",
       "      <td>0</td>\n",
       "      <td>1</td>\n",
       "      <td>0</td>\n",
       "      <td>...</td>\n",
       "      <td>0</td>\n",
       "      <td>0</td>\n",
       "      <td>0</td>\n",
       "      <td>0</td>\n",
       "      <td>0</td>\n",
       "      <td>0</td>\n",
       "      <td>0</td>\n",
       "      <td>0.000000</td>\n",
       "      <td>0.000000</td>\n",
       "      <td>3.00</td>\n",
       "    </tr>\n",
       "    <tr>\n",
       "      <th>19</th>\n",
       "      <td>20160401KTSK0</td>\n",
       "      <td>20160401</td>\n",
       "      <td>KT</td>\n",
       "      <td>SK</td>\n",
       "      <td>0</td>\n",
       "      <td>T</td>\n",
       "      <td>64001</td>\n",
       "      <td>0</td>\n",
       "      <td>1</td>\n",
       "      <td>0</td>\n",
       "      <td>...</td>\n",
       "      <td>0</td>\n",
       "      <td>0</td>\n",
       "      <td>0</td>\n",
       "      <td>0</td>\n",
       "      <td>0</td>\n",
       "      <td>0</td>\n",
       "      <td>0</td>\n",
       "      <td>0.000000</td>\n",
       "      <td>0.000000</td>\n",
       "      <td>0.00</td>\n",
       "    </tr>\n",
       "  </tbody>\n",
       "</table>\n",
       "<p>20 rows × 38 columns</p>\n",
       "</div>"
      ],
      "text/plain": [
       "             G_ID   GDAY_DS T_ID VS_T_ID  HEADER_NO TB_SC   P_ID  START_CK  \\\n",
       "0   20160401HHLG0  20160401   LG      HH          0     B  60146         0   \n",
       "1   20160401HHLG0  20160401   LG      HH          0     B  61891         0   \n",
       "2   20160401HHLG0  20160401   LG      HH          0     B  62146         0   \n",
       "3   20160401HHLG0  20160401   LG      HH          0     B  62698         1   \n",
       "4   20160401HHLG0  20160401   HH      LG          0     T  65764         0   \n",
       "5   20160401HHLG0  20160401   LG      HH          0     B  70839         0   \n",
       "6   20160401HHLG0  20160401   LG      HH          0     B  71118         0   \n",
       "7   20160401HHLG0  20160401   HH      LG          0     T  72447         0   \n",
       "8   20160401HHLG0  20160401   HH      LG          0     T  73801         1   \n",
       "9   20160401HHLG0  20160401   HH      LG          0     T  74731         0   \n",
       "10  20160401HHLG0  20160401   HH      LG          0     T  74857         0   \n",
       "11  20160401HHLG0  20160401   HH      LG          0     T  99737         0   \n",
       "12  20160401HTNC0  20160401   NC      HT          0     B  62966         0   \n",
       "13  20160401HTNC0  20160401   NC      HT          0     B  63938         1   \n",
       "14  20160401HTNC0  20160401   HT      NC          0     T  66628         0   \n",
       "15  20160401HTNC0  20160401   NC      HT          0     B  75867         0   \n",
       "16  20160401HTNC0  20160401   HT      NC          0     T  77637         1   \n",
       "17  20160401HTNC0  20160401   NC      HT          0     B  78352         0   \n",
       "18  20160401KTSK0  20160401   SK      KT          0     B  62056         0   \n",
       "19  20160401KTSK0  20160401   KT      SK          0     T  64001         0   \n",
       "\n",
       "    RELIEF_CK  CG_CK  ...  KK GD  WP  BK  ERR  R  ER  P_WHIP_RT  P2_WHIP_RT  \\\n",
       "0           1      0  ...   3  0   0   0    0  0   0   0.000000    1.000000   \n",
       "1           1      0  ...   1  0   0   0    0  0   0   0.000000    1.800000   \n",
       "2           1      0  ...   0  0   0   0    0  0   0   0.000000    3.000000   \n",
       "3           0      0  ...   4  1   0   0    0  4   4   0.818182    1.588235   \n",
       "4           1      0  ...   1  0   0   0    0  1   1   0.000000    1.500000   \n",
       "5           1      0  ...   1  0   0   0    0  0   0   0.000000    0.000000   \n",
       "6           1      0  ...   1  0   0   0    0  0   0   0.000000    0.000000   \n",
       "7           1      0  ...   2  0   0   0    0  0   0   0.000000    0.500000   \n",
       "8           0      0  ...   4  0   0   0    0  3   3   1.500000    1.500000   \n",
       "9           1      0  ...   1  0   0   0    0  1   0   0.000000    6.000000   \n",
       "10          1      0  ...   2  0   0   0    0  0   0   0.000000    0.000000   \n",
       "11          1      0  ...   1  0   1   0    0  0   0   1.000000    1.200000   \n",
       "12          1      0  ...   2  0   0   0    0  0   0   0.000000    1.000000   \n",
       "13          0      0  ...   5  1   2   0    0  4   4   1.200000    1.125000   \n",
       "14          1      0  ...   2  0   0   0    0  1   1   1.000000    2.000000   \n",
       "15          1      0  ...   0  0   0   0    0  0   0   6.000000    1.500000   \n",
       "16          0      0  ...   7  1   0   0    0  4   4   0.000000    1.588235   \n",
       "17          1      0  ...   3  0   0   0    0  0   0   0.000000    0.000000   \n",
       "18          1      0  ...   0  0   0   0    0  0   0   0.000000    0.000000   \n",
       "19          1      0  ...   0  0   0   0    0  0   0   0.000000    0.000000   \n",
       "\n",
       "    CB_WHIP_RT  \n",
       "0         1.50  \n",
       "1         1.50  \n",
       "2         0.00  \n",
       "3         3.75  \n",
       "4         0.00  \n",
       "5         0.00  \n",
       "6         0.00  \n",
       "7         1.50  \n",
       "8         1.50  \n",
       "9         0.00  \n",
       "10        0.00  \n",
       "11        0.00  \n",
       "12        0.00  \n",
       "13        2.40  \n",
       "14        1.50  \n",
       "15        0.00  \n",
       "16        2.00  \n",
       "17        0.00  \n",
       "18        3.00  \n",
       "19        0.00  \n",
       "\n",
       "[20 rows x 38 columns]"
      ]
     },
     "execution_count": 34,
     "metadata": {},
     "output_type": "execute_result"
    }
   ],
   "source": [
    "personal_pitcher_2016.head(20)"
   ]
  },
  {
   "cell_type": "markdown",
   "metadata": {},
   "source": [
    "## Data definitions\n",
    "> G_ID : 게임키 / GDAY_DS : 일자 / T_ID : 팀코드 / VS_T_ID : 상대팀코드 / HEADER_NO : 더블헤드코드<BR/>\n",
    "> TB_SC : 초말 / P_ID : 선수코드 / START_CK : 선발 / RELIEF_CK : 구원 / CG_CK : 완투 / QUIT_CK : 종료<BR/>\n",
    "> WLS : 결과 / HOLD : 홀드 / INN2 : 이닝*3 / BF : 투구수 / PA : 타자 / AB : 타수 / HIT :안타 / H2 : 2루타<BR/>\n",
    "> H3 : 3루타 / HR: 홈런 / SB : 도루 / CS : 도루 실패 / SH : 희타(진루) / SF : 희비(득점) / BB : 4구 / IB : 고4 <BR/>\n",
    "> HP : 사구 / KK : 삼진 / GD' : 병살타 / WP : 폭투 / BK : 보크 / ERR : 실책 / R : 실점 / ER : 자책점<BR/>\n",
    "> P_WHIP_RT : 득점권WHIP / P2_WHIP_RT : 2점차 WHIP / CB_WHIP_RT :345번타자 WHIP<BR/>\n",
    "> WHIP(Walks Plus Hits Divided by Innings Pitched, 이닝당 안타 볼넷 허용률)"
   ]
  },
  {
   "cell_type": "code",
   "execution_count": 33,
   "metadata": {},
   "outputs": [
    {
     "name": "stdout",
     "output_type": "stream",
     "text": [
      "<class 'pandas.core.frame.DataFrame'>\n",
      "RangeIndex: 6413 entries, 0 to 6412\n",
      "Data columns (total 38 columns):\n",
      "G_ID          6413 non-null object\n",
      "GDAY_DS       6413 non-null int64\n",
      "T_ID          6413 non-null object\n",
      "VS_T_ID       6413 non-null object\n",
      "HEADER_NO     6413 non-null int64\n",
      "TB_SC         6413 non-null object\n",
      "P_ID          6413 non-null int64\n",
      "START_CK      6413 non-null int64\n",
      "RELIEF_CK     6413 non-null int64\n",
      "CG_CK         6413 non-null int64\n",
      "QUIT_CK       6413 non-null int64\n",
      "WLS           6413 non-null object\n",
      "HOLD          6413 non-null int64\n",
      "INN2          6413 non-null int64\n",
      "BF            6413 non-null int64\n",
      "PA            6413 non-null int64\n",
      "AB            6413 non-null int64\n",
      "HIT           6413 non-null int64\n",
      "H2            6413 non-null int64\n",
      "H3            6413 non-null int64\n",
      "HR            6413 non-null int64\n",
      "SB            6413 non-null int64\n",
      "CS            6413 non-null int64\n",
      "SH            6413 non-null int64\n",
      "SF            6413 non-null int64\n",
      "BB            6413 non-null int64\n",
      "IB            6413 non-null int64\n",
      "HP            6413 non-null int64\n",
      "KK            6413 non-null int64\n",
      "GD            6413 non-null int64\n",
      "WP            6413 non-null int64\n",
      "BK            6413 non-null int64\n",
      "ERR           6413 non-null int64\n",
      "R             6413 non-null int64\n",
      "ER            6413 non-null int64\n",
      "P_WHIP_RT     6413 non-null float64\n",
      "P2_WHIP_RT    6413 non-null float64\n",
      "CB_WHIP_RT    6413 non-null float64\n",
      "dtypes: float64(3), int64(30), object(5)\n",
      "memory usage: 1.9+ MB\n"
     ]
    }
   ],
   "source": [
    "personal_pitcher_2016.info()"
   ]
  },
  {
   "cell_type": "code",
   "execution_count": 35,
   "metadata": {},
   "outputs": [
    {
     "data": {
      "text/plain": [
       "16"
      ]
     },
     "execution_count": 35,
     "metadata": {},
     "output_type": "execute_result"
    }
   ],
   "source": [
    "personal_pitcher_2016[\"G_ID\"].value_counts().max()"
   ]
  },
  {
   "cell_type": "code",
   "execution_count": 42,
   "metadata": {},
   "outputs": [
    {
     "data": {
      "text/plain": [
       "8.906944444444445"
      ]
     },
     "execution_count": 42,
     "metadata": {},
     "output_type": "execute_result"
    }
   ],
   "source": [
    "personal_pitcher_2016[\"G_ID\"].value_counts().mean()"
   ]
  },
  {
   "cell_type": "code",
   "execution_count": 62,
   "metadata": {},
   "outputs": [
    {
     "data": {
      "text/html": [
       "<div>\n",
       "<style scoped>\n",
       "    .dataframe tbody tr th:only-of-type {\n",
       "        vertical-align: middle;\n",
       "    }\n",
       "\n",
       "    .dataframe tbody tr th {\n",
       "        vertical-align: top;\n",
       "    }\n",
       "\n",
       "    .dataframe thead th {\n",
       "        text-align: right;\n",
       "    }\n",
       "</style>\n",
       "<table border=\"1\" class=\"dataframe\">\n",
       "  <thead>\n",
       "    <tr style=\"text-align: right;\">\n",
       "      <th></th>\n",
       "      <th>GDAY_DS</th>\n",
       "      <th>HEADER_NO</th>\n",
       "      <th>P_ID</th>\n",
       "      <th>START_CK</th>\n",
       "      <th>RELIEF_CK</th>\n",
       "      <th>CG_CK</th>\n",
       "      <th>QUIT_CK</th>\n",
       "      <th>HOLD</th>\n",
       "      <th>INN2</th>\n",
       "      <th>BF</th>\n",
       "      <th>...</th>\n",
       "      <th>KK</th>\n",
       "      <th>GD</th>\n",
       "      <th>WP</th>\n",
       "      <th>BK</th>\n",
       "      <th>ERR</th>\n",
       "      <th>R</th>\n",
       "      <th>ER</th>\n",
       "      <th>P_WHIP_RT</th>\n",
       "      <th>P2_WHIP_RT</th>\n",
       "      <th>CB_WHIP_RT</th>\n",
       "    </tr>\n",
       "  </thead>\n",
       "  <tbody>\n",
       "    <tr>\n",
       "      <th>count</th>\n",
       "      <td>6.413000e+03</td>\n",
       "      <td>6413.000000</td>\n",
       "      <td>6413.000000</td>\n",
       "      <td>6413.000000</td>\n",
       "      <td>6413.000000</td>\n",
       "      <td>6413.000000</td>\n",
       "      <td>6413.000000</td>\n",
       "      <td>6413.000000</td>\n",
       "      <td>6413.000000</td>\n",
       "      <td>6413.000000</td>\n",
       "      <td>...</td>\n",
       "      <td>6413.000000</td>\n",
       "      <td>6413.000000</td>\n",
       "      <td>6413.000000</td>\n",
       "      <td>6413.000000</td>\n",
       "      <td>6413.000000</td>\n",
       "      <td>6413.000000</td>\n",
       "      <td>6413.000000</td>\n",
       "      <td>6413.000000</td>\n",
       "      <td>6413.000000</td>\n",
       "      <td>6413.000000</td>\n",
       "    </tr>\n",
       "    <tr>\n",
       "      <th>mean</th>\n",
       "      <td>2.016068e+07</td>\n",
       "      <td>0.003275</td>\n",
       "      <td>70859.237486</td>\n",
       "      <td>0.224544</td>\n",
       "      <td>0.775456</td>\n",
       "      <td>0.002807</td>\n",
       "      <td>0.224544</td>\n",
       "      <td>0.091845</td>\n",
       "      <td>5.990800</td>\n",
       "      <td>34.907999</td>\n",
       "      <td>...</td>\n",
       "      <td>1.519258</td>\n",
       "      <td>0.182754</td>\n",
       "      <td>0.109309</td>\n",
       "      <td>0.008888</td>\n",
       "      <td>0.022766</td>\n",
       "      <td>1.259005</td>\n",
       "      <td>1.151411</td>\n",
       "      <td>1.077816</td>\n",
       "      <td>1.120363</td>\n",
       "      <td>1.322982</td>\n",
       "    </tr>\n",
       "    <tr>\n",
       "      <th>std</th>\n",
       "      <td>1.790593e+02</td>\n",
       "      <td>0.075893</td>\n",
       "      <td>8505.054314</td>\n",
       "      <td>0.417314</td>\n",
       "      <td>0.417314</td>\n",
       "      <td>0.052909</td>\n",
       "      <td>0.417314</td>\n",
       "      <td>0.288829</td>\n",
       "      <td>5.915875</td>\n",
       "      <td>32.583947</td>\n",
       "      <td>...</td>\n",
       "      <td>1.819733</td>\n",
       "      <td>0.449546</td>\n",
       "      <td>0.349756</td>\n",
       "      <td>0.097131</td>\n",
       "      <td>0.151246</td>\n",
       "      <td>1.789656</td>\n",
       "      <td>1.677527</td>\n",
       "      <td>1.939782</td>\n",
       "      <td>1.860745</td>\n",
       "      <td>2.100942</td>\n",
       "    </tr>\n",
       "    <tr>\n",
       "      <th>min</th>\n",
       "      <td>2.016040e+07</td>\n",
       "      <td>0.000000</td>\n",
       "      <td>60105.000000</td>\n",
       "      <td>0.000000</td>\n",
       "      <td>0.000000</td>\n",
       "      <td>0.000000</td>\n",
       "      <td>0.000000</td>\n",
       "      <td>0.000000</td>\n",
       "      <td>0.000000</td>\n",
       "      <td>0.000000</td>\n",
       "      <td>...</td>\n",
       "      <td>0.000000</td>\n",
       "      <td>0.000000</td>\n",
       "      <td>0.000000</td>\n",
       "      <td>0.000000</td>\n",
       "      <td>0.000000</td>\n",
       "      <td>0.000000</td>\n",
       "      <td>0.000000</td>\n",
       "      <td>0.000000</td>\n",
       "      <td>0.000000</td>\n",
       "      <td>0.000000</td>\n",
       "    </tr>\n",
       "    <tr>\n",
       "      <th>25%</th>\n",
       "      <td>2.016052e+07</td>\n",
       "      <td>0.000000</td>\n",
       "      <td>63959.000000</td>\n",
       "      <td>0.000000</td>\n",
       "      <td>1.000000</td>\n",
       "      <td>0.000000</td>\n",
       "      <td>0.000000</td>\n",
       "      <td>0.000000</td>\n",
       "      <td>2.000000</td>\n",
       "      <td>12.000000</td>\n",
       "      <td>...</td>\n",
       "      <td>0.000000</td>\n",
       "      <td>0.000000</td>\n",
       "      <td>0.000000</td>\n",
       "      <td>0.000000</td>\n",
       "      <td>0.000000</td>\n",
       "      <td>0.000000</td>\n",
       "      <td>0.000000</td>\n",
       "      <td>0.000000</td>\n",
       "      <td>0.000000</td>\n",
       "      <td>0.000000</td>\n",
       "    </tr>\n",
       "    <tr>\n",
       "      <th>50%</th>\n",
       "      <td>2.016070e+07</td>\n",
       "      <td>0.000000</td>\n",
       "      <td>71801.000000</td>\n",
       "      <td>0.000000</td>\n",
       "      <td>1.000000</td>\n",
       "      <td>0.000000</td>\n",
       "      <td>0.000000</td>\n",
       "      <td>0.000000</td>\n",
       "      <td>3.000000</td>\n",
       "      <td>21.000000</td>\n",
       "      <td>...</td>\n",
       "      <td>1.000000</td>\n",
       "      <td>0.000000</td>\n",
       "      <td>0.000000</td>\n",
       "      <td>0.000000</td>\n",
       "      <td>0.000000</td>\n",
       "      <td>0.000000</td>\n",
       "      <td>0.000000</td>\n",
       "      <td>0.000000</td>\n",
       "      <td>0.000000</td>\n",
       "      <td>0.000000</td>\n",
       "    </tr>\n",
       "    <tr>\n",
       "      <th>75%</th>\n",
       "      <td>2.016082e+07</td>\n",
       "      <td>0.000000</td>\n",
       "      <td>76118.000000</td>\n",
       "      <td>0.000000</td>\n",
       "      <td>1.000000</td>\n",
       "      <td>0.000000</td>\n",
       "      <td>0.000000</td>\n",
       "      <td>0.000000</td>\n",
       "      <td>7.000000</td>\n",
       "      <td>44.000000</td>\n",
       "      <td>...</td>\n",
       "      <td>2.000000</td>\n",
       "      <td>0.000000</td>\n",
       "      <td>0.000000</td>\n",
       "      <td>0.000000</td>\n",
       "      <td>0.000000</td>\n",
       "      <td>2.000000</td>\n",
       "      <td>2.000000</td>\n",
       "      <td>1.500000</td>\n",
       "      <td>1.500000</td>\n",
       "      <td>1.800000</td>\n",
       "    </tr>\n",
       "    <tr>\n",
       "      <th>max</th>\n",
       "      <td>2.016101e+07</td>\n",
       "      <td>2.000000</td>\n",
       "      <td>99737.000000</td>\n",
       "      <td>1.000000</td>\n",
       "      <td>1.000000</td>\n",
       "      <td>1.000000</td>\n",
       "      <td>1.000000</td>\n",
       "      <td>1.000000</td>\n",
       "      <td>27.000000</td>\n",
       "      <td>139.000000</td>\n",
       "      <td>...</td>\n",
       "      <td>13.000000</td>\n",
       "      <td>4.000000</td>\n",
       "      <td>3.000000</td>\n",
       "      <td>2.000000</td>\n",
       "      <td>2.000000</td>\n",
       "      <td>13.000000</td>\n",
       "      <td>13.000000</td>\n",
       "      <td>24.000000</td>\n",
       "      <td>21.000000</td>\n",
       "      <td>24.000000</td>\n",
       "    </tr>\n",
       "  </tbody>\n",
       "</table>\n",
       "<p>8 rows × 33 columns</p>\n",
       "</div>"
      ],
      "text/plain": [
       "            GDAY_DS    HEADER_NO          P_ID     START_CK    RELIEF_CK  \\\n",
       "count  6.413000e+03  6413.000000   6413.000000  6413.000000  6413.000000   \n",
       "mean   2.016068e+07     0.003275  70859.237486     0.224544     0.775456   \n",
       "std    1.790593e+02     0.075893   8505.054314     0.417314     0.417314   \n",
       "min    2.016040e+07     0.000000  60105.000000     0.000000     0.000000   \n",
       "25%    2.016052e+07     0.000000  63959.000000     0.000000     1.000000   \n",
       "50%    2.016070e+07     0.000000  71801.000000     0.000000     1.000000   \n",
       "75%    2.016082e+07     0.000000  76118.000000     0.000000     1.000000   \n",
       "max    2.016101e+07     2.000000  99737.000000     1.000000     1.000000   \n",
       "\n",
       "             CG_CK      QUIT_CK         HOLD         INN2           BF  ...  \\\n",
       "count  6413.000000  6413.000000  6413.000000  6413.000000  6413.000000  ...   \n",
       "mean      0.002807     0.224544     0.091845     5.990800    34.907999  ...   \n",
       "std       0.052909     0.417314     0.288829     5.915875    32.583947  ...   \n",
       "min       0.000000     0.000000     0.000000     0.000000     0.000000  ...   \n",
       "25%       0.000000     0.000000     0.000000     2.000000    12.000000  ...   \n",
       "50%       0.000000     0.000000     0.000000     3.000000    21.000000  ...   \n",
       "75%       0.000000     0.000000     0.000000     7.000000    44.000000  ...   \n",
       "max       1.000000     1.000000     1.000000    27.000000   139.000000  ...   \n",
       "\n",
       "                KK           GD           WP           BK          ERR  \\\n",
       "count  6413.000000  6413.000000  6413.000000  6413.000000  6413.000000   \n",
       "mean      1.519258     0.182754     0.109309     0.008888     0.022766   \n",
       "std       1.819733     0.449546     0.349756     0.097131     0.151246   \n",
       "min       0.000000     0.000000     0.000000     0.000000     0.000000   \n",
       "25%       0.000000     0.000000     0.000000     0.000000     0.000000   \n",
       "50%       1.000000     0.000000     0.000000     0.000000     0.000000   \n",
       "75%       2.000000     0.000000     0.000000     0.000000     0.000000   \n",
       "max      13.000000     4.000000     3.000000     2.000000     2.000000   \n",
       "\n",
       "                 R           ER    P_WHIP_RT   P2_WHIP_RT   CB_WHIP_RT  \n",
       "count  6413.000000  6413.000000  6413.000000  6413.000000  6413.000000  \n",
       "mean      1.259005     1.151411     1.077816     1.120363     1.322982  \n",
       "std       1.789656     1.677527     1.939782     1.860745     2.100942  \n",
       "min       0.000000     0.000000     0.000000     0.000000     0.000000  \n",
       "25%       0.000000     0.000000     0.000000     0.000000     0.000000  \n",
       "50%       0.000000     0.000000     0.000000     0.000000     0.000000  \n",
       "75%       2.000000     2.000000     1.500000     1.500000     1.800000  \n",
       "max      13.000000    13.000000    24.000000    21.000000    24.000000  \n",
       "\n",
       "[8 rows x 33 columns]"
      ]
     },
     "execution_count": 62,
     "metadata": {},
     "output_type": "execute_result"
    }
   ],
   "source": [
    "personal_pitcher_2016.describe()"
   ]
  },
  {
   "cell_type": "code",
   "execution_count": 83,
   "metadata": {},
   "outputs": [
    {
     "data": {
      "text/plain": [
       "     4648\n",
       "L     713\n",
       "W     713\n",
       "S     325\n",
       "D      14\n",
       "Name: WLS, dtype: int64"
      ]
     },
     "execution_count": 83,
     "metadata": {},
     "output_type": "execute_result"
    }
   ],
   "source": [
    "personal_pitcher_2016['WLS'].value_counts()"
   ]
  },
  {
   "cell_type": "code",
   "execution_count": 84,
   "metadata": {},
   "outputs": [
    {
     "data": {
      "text/html": [
       "<div>\n",
       "<style scoped>\n",
       "    .dataframe tbody tr th:only-of-type {\n",
       "        vertical-align: middle;\n",
       "    }\n",
       "\n",
       "    .dataframe tbody tr th {\n",
       "        vertical-align: top;\n",
       "    }\n",
       "\n",
       "    .dataframe thead th {\n",
       "        text-align: right;\n",
       "    }\n",
       "</style>\n",
       "<table border=\"1\" class=\"dataframe\">\n",
       "  <thead>\n",
       "    <tr style=\"text-align: right;\">\n",
       "      <th></th>\n",
       "      <th>G_ID</th>\n",
       "      <th>GDAY_DS</th>\n",
       "      <th>T_ID</th>\n",
       "      <th>VS_T_ID</th>\n",
       "      <th>HEADER_NO</th>\n",
       "      <th>TB_SC</th>\n",
       "      <th>P_ID</th>\n",
       "      <th>START_CK</th>\n",
       "      <th>RELIEF_CK</th>\n",
       "      <th>CG_CK</th>\n",
       "      <th>...</th>\n",
       "      <th>KK</th>\n",
       "      <th>GD</th>\n",
       "      <th>WP</th>\n",
       "      <th>BK</th>\n",
       "      <th>ERR</th>\n",
       "      <th>R</th>\n",
       "      <th>ER</th>\n",
       "      <th>P_WHIP_RT</th>\n",
       "      <th>P2_WHIP_RT</th>\n",
       "      <th>CB_WHIP_RT</th>\n",
       "    </tr>\n",
       "  </thead>\n",
       "  <tbody>\n",
       "    <tr>\n",
       "      <th>316</th>\n",
       "      <td>20160409WOOB0</td>\n",
       "      <td>20160409</td>\n",
       "      <td>OB</td>\n",
       "      <td>WO</td>\n",
       "      <td>0</td>\n",
       "      <td>B</td>\n",
       "      <td>73241</td>\n",
       "      <td>0</td>\n",
       "      <td>1</td>\n",
       "      <td>0</td>\n",
       "      <td>...</td>\n",
       "      <td>1</td>\n",
       "      <td>0</td>\n",
       "      <td>0</td>\n",
       "      <td>0</td>\n",
       "      <td>0</td>\n",
       "      <td>0</td>\n",
       "      <td>0</td>\n",
       "      <td>0.0</td>\n",
       "      <td>1.000000</td>\n",
       "      <td>0.00</td>\n",
       "    </tr>\n",
       "    <tr>\n",
       "      <th>318</th>\n",
       "      <td>20160409WOOB0</td>\n",
       "      <td>20160409</td>\n",
       "      <td>WO</td>\n",
       "      <td>OB</td>\n",
       "      <td>0</td>\n",
       "      <td>T</td>\n",
       "      <td>76350</td>\n",
       "      <td>0</td>\n",
       "      <td>1</td>\n",
       "      <td>0</td>\n",
       "      <td>...</td>\n",
       "      <td>0</td>\n",
       "      <td>0</td>\n",
       "      <td>0</td>\n",
       "      <td>0</td>\n",
       "      <td>0</td>\n",
       "      <td>0</td>\n",
       "      <td>0</td>\n",
       "      <td>0.0</td>\n",
       "      <td>0.000000</td>\n",
       "      <td>0.00</td>\n",
       "    </tr>\n",
       "    <tr>\n",
       "      <th>1527</th>\n",
       "      <td>20160515KTNC0</td>\n",
       "      <td>20160515</td>\n",
       "      <td>NC</td>\n",
       "      <td>KT</td>\n",
       "      <td>0</td>\n",
       "      <td>B</td>\n",
       "      <td>78366</td>\n",
       "      <td>0</td>\n",
       "      <td>1</td>\n",
       "      <td>0</td>\n",
       "      <td>...</td>\n",
       "      <td>1</td>\n",
       "      <td>0</td>\n",
       "      <td>0</td>\n",
       "      <td>0</td>\n",
       "      <td>0</td>\n",
       "      <td>0</td>\n",
       "      <td>0</td>\n",
       "      <td>1.5</td>\n",
       "      <td>3.000000</td>\n",
       "      <td>0.00</td>\n",
       "    </tr>\n",
       "    <tr>\n",
       "      <th>1528</th>\n",
       "      <td>20160515KTNC0</td>\n",
       "      <td>20160515</td>\n",
       "      <td>KT</td>\n",
       "      <td>NC</td>\n",
       "      <td>0</td>\n",
       "      <td>T</td>\n",
       "      <td>99563</td>\n",
       "      <td>0</td>\n",
       "      <td>1</td>\n",
       "      <td>0</td>\n",
       "      <td>...</td>\n",
       "      <td>2</td>\n",
       "      <td>0</td>\n",
       "      <td>1</td>\n",
       "      <td>0</td>\n",
       "      <td>0</td>\n",
       "      <td>0</td>\n",
       "      <td>0</td>\n",
       "      <td>0.0</td>\n",
       "      <td>0.333333</td>\n",
       "      <td>0.75</td>\n",
       "    </tr>\n",
       "    <tr>\n",
       "      <th>1717</th>\n",
       "      <td>20160521KTHH0</td>\n",
       "      <td>20160521</td>\n",
       "      <td>HH</td>\n",
       "      <td>KT</td>\n",
       "      <td>0</td>\n",
       "      <td>B</td>\n",
       "      <td>79764</td>\n",
       "      <td>0</td>\n",
       "      <td>1</td>\n",
       "      <td>0</td>\n",
       "      <td>...</td>\n",
       "      <td>3</td>\n",
       "      <td>0</td>\n",
       "      <td>0</td>\n",
       "      <td>0</td>\n",
       "      <td>0</td>\n",
       "      <td>1</td>\n",
       "      <td>1</td>\n",
       "      <td>1.5</td>\n",
       "      <td>1.000000</td>\n",
       "      <td>3.00</td>\n",
       "    </tr>\n",
       "  </tbody>\n",
       "</table>\n",
       "<p>5 rows × 38 columns</p>\n",
       "</div>"
      ],
      "text/plain": [
       "               G_ID   GDAY_DS T_ID VS_T_ID  HEADER_NO TB_SC   P_ID  START_CK  \\\n",
       "316   20160409WOOB0  20160409   OB      WO          0     B  73241         0   \n",
       "318   20160409WOOB0  20160409   WO      OB          0     T  76350         0   \n",
       "1527  20160515KTNC0  20160515   NC      KT          0     B  78366         0   \n",
       "1528  20160515KTNC0  20160515   KT      NC          0     T  99563         0   \n",
       "1717  20160521KTHH0  20160521   HH      KT          0     B  79764         0   \n",
       "\n",
       "      RELIEF_CK  CG_CK  ...  KK GD  WP  BK  ERR  R  ER  P_WHIP_RT  P2_WHIP_RT  \\\n",
       "316           1      0  ...   1  0   0   0    0  0   0        0.0    1.000000   \n",
       "318           1      0  ...   0  0   0   0    0  0   0        0.0    0.000000   \n",
       "1527          1      0  ...   1  0   0   0    0  0   0        1.5    3.000000   \n",
       "1528          1      0  ...   2  0   1   0    0  0   0        0.0    0.333333   \n",
       "1717          1      0  ...   3  0   0   0    0  1   1        1.5    1.000000   \n",
       "\n",
       "      CB_WHIP_RT  \n",
       "316         0.00  \n",
       "318         0.00  \n",
       "1527        0.00  \n",
       "1528        0.75  \n",
       "1717        3.00  \n",
       "\n",
       "[5 rows x 38 columns]"
      ]
     },
     "execution_count": 84,
     "metadata": {},
     "output_type": "execute_result"
    }
   ],
   "source": [
    "personal_pitcher_2016[personal_pitcher_2016['WLS']==\"D\"].head()"
   ]
  },
  {
   "cell_type": "code",
   "execution_count": 118,
   "metadata": {},
   "outputs": [
    {
     "data": {
      "text/html": [
       "<div>\n",
       "<style scoped>\n",
       "    .dataframe tbody tr th:only-of-type {\n",
       "        vertical-align: middle;\n",
       "    }\n",
       "\n",
       "    .dataframe tbody tr th {\n",
       "        vertical-align: top;\n",
       "    }\n",
       "\n",
       "    .dataframe thead th {\n",
       "        text-align: right;\n",
       "    }\n",
       "</style>\n",
       "<table border=\"1\" class=\"dataframe\">\n",
       "  <thead>\n",
       "    <tr style=\"text-align: right;\">\n",
       "      <th></th>\n",
       "      <th>G_ID</th>\n",
       "      <th>T_ID</th>\n",
       "      <th>VS_T_ID</th>\n",
       "      <th>WLS</th>\n",
       "    </tr>\n",
       "  </thead>\n",
       "  <tbody>\n",
       "    <tr>\n",
       "      <th>6389</th>\n",
       "      <td>20161008SSSK0</td>\n",
       "      <td>SS</td>\n",
       "      <td>SK</td>\n",
       "      <td>L</td>\n",
       "    </tr>\n",
       "    <tr>\n",
       "      <th>6397</th>\n",
       "      <td>20161009KTNC0</td>\n",
       "      <td>KT</td>\n",
       "      <td>NC</td>\n",
       "      <td>W</td>\n",
       "    </tr>\n",
       "    <tr>\n",
       "      <th>6400</th>\n",
       "      <td>20161009KTNC0</td>\n",
       "      <td>NC</td>\n",
       "      <td>KT</td>\n",
       "      <td>L</td>\n",
       "    </tr>\n",
       "    <tr>\n",
       "      <th>6403</th>\n",
       "      <td>20161009WOLT0</td>\n",
       "      <td>WO</td>\n",
       "      <td>LT</td>\n",
       "      <td>L</td>\n",
       "    </tr>\n",
       "    <tr>\n",
       "      <th>6406</th>\n",
       "      <td>20161009WOLT0</td>\n",
       "      <td>LT</td>\n",
       "      <td>WO</td>\n",
       "      <td>W</td>\n",
       "    </tr>\n",
       "  </tbody>\n",
       "</table>\n",
       "</div>"
      ],
      "text/plain": [
       "               G_ID T_ID VS_T_ID WLS\n",
       "6389  20161008SSSK0   SS      SK   L\n",
       "6397  20161009KTNC0   KT      NC   W\n",
       "6400  20161009KTNC0   NC      KT   L\n",
       "6403  20161009WOLT0   WO      LT   L\n",
       "6406  20161009WOLT0   LT      WO   W"
      ]
     },
     "execution_count": 118,
     "metadata": {},
     "output_type": "execute_result"
    }
   ],
   "source": [
    "game_wls = personal_pitcher_2016.loc[\n",
    "    (personal_pitcher_2016['WLS'] == \"L\") | (personal_pitcher_2016['WLS'] == \"W\"),\n",
    "    ['G_ID','T_ID','VS_T_ID','WLS']]\n",
    "game_wls.tail()"
   ]
  },
  {
   "cell_type": "code",
   "execution_count": 101,
   "metadata": {},
   "outputs": [
    {
     "data": {
      "text/html": [
       "<div>\n",
       "<style scoped>\n",
       "    .dataframe tbody tr th:only-of-type {\n",
       "        vertical-align: middle;\n",
       "    }\n",
       "\n",
       "    .dataframe tbody tr th {\n",
       "        vertical-align: top;\n",
       "    }\n",
       "\n",
       "    .dataframe thead th {\n",
       "        text-align: right;\n",
       "    }\n",
       "</style>\n",
       "<table border=\"1\" class=\"dataframe\">\n",
       "  <thead>\n",
       "    <tr style=\"text-align: right;\">\n",
       "      <th></th>\n",
       "      <th>GDAY_DS</th>\n",
       "      <th>T_ID</th>\n",
       "      <th>VS_T_ID</th>\n",
       "      <th>HEADER_NO</th>\n",
       "      <th>TB_SC</th>\n",
       "      <th>P_ID</th>\n",
       "      <th>START_CK</th>\n",
       "      <th>RELIEF_CK</th>\n",
       "      <th>CG_CK</th>\n",
       "      <th>QUIT_CK</th>\n",
       "      <th>...</th>\n",
       "      <th>KK</th>\n",
       "      <th>GD</th>\n",
       "      <th>WP</th>\n",
       "      <th>BK</th>\n",
       "      <th>ERR</th>\n",
       "      <th>R</th>\n",
       "      <th>ER</th>\n",
       "      <th>P_WHIP_RT</th>\n",
       "      <th>P2_WHIP_RT</th>\n",
       "      <th>CB_WHIP_RT</th>\n",
       "    </tr>\n",
       "    <tr>\n",
       "      <th>G_ID</th>\n",
       "      <th></th>\n",
       "      <th></th>\n",
       "      <th></th>\n",
       "      <th></th>\n",
       "      <th></th>\n",
       "      <th></th>\n",
       "      <th></th>\n",
       "      <th></th>\n",
       "      <th></th>\n",
       "      <th></th>\n",
       "      <th></th>\n",
       "      <th></th>\n",
       "      <th></th>\n",
       "      <th></th>\n",
       "      <th></th>\n",
       "      <th></th>\n",
       "      <th></th>\n",
       "      <th></th>\n",
       "      <th></th>\n",
       "      <th></th>\n",
       "      <th></th>\n",
       "    </tr>\n",
       "  </thead>\n",
       "  <tbody>\n",
       "    <tr>\n",
       "      <th>20160401HHLG0</th>\n",
       "      <td>20160401</td>\n",
       "      <td>LG</td>\n",
       "      <td>HH</td>\n",
       "      <td>0</td>\n",
       "      <td>B</td>\n",
       "      <td>62698</td>\n",
       "      <td>1</td>\n",
       "      <td>0</td>\n",
       "      <td>0</td>\n",
       "      <td>0</td>\n",
       "      <td>...</td>\n",
       "      <td>4</td>\n",
       "      <td>1</td>\n",
       "      <td>0</td>\n",
       "      <td>0</td>\n",
       "      <td>0</td>\n",
       "      <td>4</td>\n",
       "      <td>4</td>\n",
       "      <td>0.818182</td>\n",
       "      <td>1.588235</td>\n",
       "      <td>3.75</td>\n",
       "    </tr>\n",
       "    <tr>\n",
       "      <th>20160401HHLG0</th>\n",
       "      <td>20160401</td>\n",
       "      <td>HH</td>\n",
       "      <td>LG</td>\n",
       "      <td>0</td>\n",
       "      <td>T</td>\n",
       "      <td>73801</td>\n",
       "      <td>1</td>\n",
       "      <td>0</td>\n",
       "      <td>0</td>\n",
       "      <td>0</td>\n",
       "      <td>...</td>\n",
       "      <td>4</td>\n",
       "      <td>0</td>\n",
       "      <td>0</td>\n",
       "      <td>0</td>\n",
       "      <td>0</td>\n",
       "      <td>3</td>\n",
       "      <td>3</td>\n",
       "      <td>1.500000</td>\n",
       "      <td>1.500000</td>\n",
       "      <td>1.50</td>\n",
       "    </tr>\n",
       "    <tr>\n",
       "      <th>20160401HTNC0</th>\n",
       "      <td>20160401</td>\n",
       "      <td>NC</td>\n",
       "      <td>HT</td>\n",
       "      <td>0</td>\n",
       "      <td>B</td>\n",
       "      <td>63938</td>\n",
       "      <td>1</td>\n",
       "      <td>0</td>\n",
       "      <td>0</td>\n",
       "      <td>0</td>\n",
       "      <td>...</td>\n",
       "      <td>5</td>\n",
       "      <td>1</td>\n",
       "      <td>2</td>\n",
       "      <td>0</td>\n",
       "      <td>0</td>\n",
       "      <td>4</td>\n",
       "      <td>4</td>\n",
       "      <td>1.200000</td>\n",
       "      <td>1.125000</td>\n",
       "      <td>2.40</td>\n",
       "    </tr>\n",
       "    <tr>\n",
       "      <th>20160401HTNC0</th>\n",
       "      <td>20160401</td>\n",
       "      <td>HT</td>\n",
       "      <td>NC</td>\n",
       "      <td>0</td>\n",
       "      <td>T</td>\n",
       "      <td>77637</td>\n",
       "      <td>1</td>\n",
       "      <td>0</td>\n",
       "      <td>0</td>\n",
       "      <td>0</td>\n",
       "      <td>...</td>\n",
       "      <td>7</td>\n",
       "      <td>1</td>\n",
       "      <td>0</td>\n",
       "      <td>0</td>\n",
       "      <td>0</td>\n",
       "      <td>4</td>\n",
       "      <td>4</td>\n",
       "      <td>0.000000</td>\n",
       "      <td>1.588235</td>\n",
       "      <td>2.00</td>\n",
       "    </tr>\n",
       "    <tr>\n",
       "      <th>20160401KTSK0</th>\n",
       "      <td>20160401</td>\n",
       "      <td>KT</td>\n",
       "      <td>SK</td>\n",
       "      <td>0</td>\n",
       "      <td>T</td>\n",
       "      <td>66049</td>\n",
       "      <td>1</td>\n",
       "      <td>0</td>\n",
       "      <td>0</td>\n",
       "      <td>0</td>\n",
       "      <td>...</td>\n",
       "      <td>2</td>\n",
       "      <td>0</td>\n",
       "      <td>0</td>\n",
       "      <td>0</td>\n",
       "      <td>0</td>\n",
       "      <td>4</td>\n",
       "      <td>4</td>\n",
       "      <td>3.000000</td>\n",
       "      <td>1.750000</td>\n",
       "      <td>0.00</td>\n",
       "    </tr>\n",
       "  </tbody>\n",
       "</table>\n",
       "<p>5 rows × 37 columns</p>\n",
       "</div>"
      ],
      "text/plain": [
       "                GDAY_DS T_ID VS_T_ID  HEADER_NO TB_SC   P_ID  START_CK  \\\n",
       "G_ID                                                                     \n",
       "20160401HHLG0  20160401   LG      HH          0     B  62698         1   \n",
       "20160401HHLG0  20160401   HH      LG          0     T  73801         1   \n",
       "20160401HTNC0  20160401   NC      HT          0     B  63938         1   \n",
       "20160401HTNC0  20160401   HT      NC          0     T  77637         1   \n",
       "20160401KTSK0  20160401   KT      SK          0     T  66049         1   \n",
       "\n",
       "               RELIEF_CK  CG_CK  QUIT_CK  ... KK  GD  WP  BK  ERR  R  ER  \\\n",
       "G_ID                                      ...                              \n",
       "20160401HHLG0          0      0        0  ...  4   1   0   0    0  4   4   \n",
       "20160401HHLG0          0      0        0  ...  4   0   0   0    0  3   3   \n",
       "20160401HTNC0          0      0        0  ...  5   1   2   0    0  4   4   \n",
       "20160401HTNC0          0      0        0  ...  7   1   0   0    0  4   4   \n",
       "20160401KTSK0          0      0        0  ...  2   0   0   0    0  4   4   \n",
       "\n",
       "               P_WHIP_RT  P2_WHIP_RT  CB_WHIP_RT  \n",
       "G_ID                                              \n",
       "20160401HHLG0   0.818182    1.588235        3.75  \n",
       "20160401HHLG0   1.500000    1.500000        1.50  \n",
       "20160401HTNC0   1.200000    1.125000        2.40  \n",
       "20160401HTNC0   0.000000    1.588235        2.00  \n",
       "20160401KTSK0   3.000000    1.750000        0.00  \n",
       "\n",
       "[5 rows x 37 columns]"
      ]
     },
     "execution_count": 101,
     "metadata": {},
     "output_type": "execute_result"
    }
   ],
   "source": [
    "start_pitcher_2016 = personal_pitcher_2016[personal_pitcher_2016['START_CK']==1]\n",
    "start_pitcher_2016 = start_pitcher_2016.set_index('G_ID')\n",
    "start_pitcher_2016.head()"
   ]
  },
  {
   "cell_type": "code",
   "execution_count": 1,
   "metadata": {},
   "outputs": [
    {
     "ename": "NameError",
     "evalue": "name 'personal_pitcher_2016' is not defined",
     "output_type": "error",
     "traceback": [
      "\u001b[1;31m---------------------------------------------------------------------------\u001b[0m",
      "\u001b[1;31mNameError\u001b[0m                                 Traceback (most recent call last)",
      "\u001b[1;32m<ipython-input-1-eba4679bd59c>\u001b[0m in \u001b[0;36m<module>\u001b[1;34m\u001b[0m\n\u001b[1;32m----> 1\u001b[1;33m \u001b[0mdraw_game_id\u001b[0m \u001b[1;33m=\u001b[0m \u001b[0mpersonal_pitcher_2016\u001b[0m\u001b[1;33m.\u001b[0m\u001b[0mloc\u001b[0m\u001b[1;33m[\u001b[0m\u001b[0mpersonal_pitcher_2016\u001b[0m\u001b[1;33m[\u001b[0m\u001b[1;34m'WLS'\u001b[0m\u001b[1;33m]\u001b[0m\u001b[1;33m==\u001b[0m\u001b[1;34m\"D\"\u001b[0m\u001b[1;33m,\u001b[0m\u001b[1;33m[\u001b[0m\u001b[1;34m'G_ID'\u001b[0m\u001b[1;33m]\u001b[0m\u001b[1;33m]\u001b[0m\u001b[1;33m\u001b[0m\u001b[1;33m\u001b[0m\u001b[0m\n\u001b[0m\u001b[0;32m      2\u001b[0m \u001b[1;31m# draw_game_id = draw_game_id['G_ID'].tolist()\u001b[0m\u001b[1;33m\u001b[0m\u001b[1;33m\u001b[0m\u001b[1;33m\u001b[0m\u001b[0m\n\u001b[0;32m      3\u001b[0m \u001b[0mdraw_game_id\u001b[0m\u001b[1;33m\u001b[0m\u001b[1;33m\u001b[0m\u001b[0m\n",
      "\u001b[1;31mNameError\u001b[0m: name 'personal_pitcher_2016' is not defined"
     ]
    }
   ],
   "source": [
    "draw_game_id = personal_pitcher_2016.loc[personal_pitcher_2016['WLS']==\"D\",['G_ID']]\n",
    "draw_game_id = draw_game_id['G_ID'].tolist()\n",
    "draw_game_id"
   ]
  },
  {
   "cell_type": "code",
   "execution_count": 116,
   "metadata": {},
   "outputs": [
    {
     "ename": "KeyError",
     "evalue": "\"['20160409WOOB0' '20160409WOOB0' '20160515KTNC0' '20160515KTNC0'\\n '20160521KTHH0' '20160521KTHH0' '20160531HTLG0' '20160531HTLG0'\\n '20160623HHNC0' '20160623HHNC0' '20160709SSHH0' '20160709SSHH0'\\n '20160921NCLG0' '20160921NCLG0'] not found in axis\"",
     "output_type": "error",
     "traceback": [
      "\u001b[1;31m---------------------------------------------------------------------------\u001b[0m",
      "\u001b[1;31mKeyError\u001b[0m                                  Traceback (most recent call last)",
      "\u001b[1;32m<ipython-input-116-3a209ca543a9>\u001b[0m in \u001b[0;36m<module>\u001b[1;34m\u001b[0m\n\u001b[1;32m----> 1\u001b[1;33m \u001b[0mstart_pitcher_2016\u001b[0m \u001b[1;33m=\u001b[0m \u001b[0mstart_pitcher_2016\u001b[0m\u001b[1;33m.\u001b[0m\u001b[0mdrop\u001b[0m\u001b[1;33m(\u001b[0m\u001b[0mdraw_game_id\u001b[0m\u001b[1;33m)\u001b[0m\u001b[1;33m\u001b[0m\u001b[1;33m\u001b[0m\u001b[0m\n\u001b[0m\u001b[0;32m      2\u001b[0m \u001b[0mstart_pitcher_2016\u001b[0m\u001b[1;33m.\u001b[0m\u001b[0mhead\u001b[0m\u001b[1;33m(\u001b[0m\u001b[1;33m)\u001b[0m\u001b[1;33m\u001b[0m\u001b[1;33m\u001b[0m\u001b[0m\n",
      "\u001b[1;32mC:\\ProgramData\\Anaconda3\\lib\\site-packages\\pandas\\core\\frame.py\u001b[0m in \u001b[0;36mdrop\u001b[1;34m(self, labels, axis, index, columns, level, inplace, errors)\u001b[0m\n\u001b[0;32m   3938\u001b[0m                                            \u001b[0mindex\u001b[0m\u001b[1;33m=\u001b[0m\u001b[0mindex\u001b[0m\u001b[1;33m,\u001b[0m \u001b[0mcolumns\u001b[0m\u001b[1;33m=\u001b[0m\u001b[0mcolumns\u001b[0m\u001b[1;33m,\u001b[0m\u001b[1;33m\u001b[0m\u001b[1;33m\u001b[0m\u001b[0m\n\u001b[0;32m   3939\u001b[0m                                            \u001b[0mlevel\u001b[0m\u001b[1;33m=\u001b[0m\u001b[0mlevel\u001b[0m\u001b[1;33m,\u001b[0m \u001b[0minplace\u001b[0m\u001b[1;33m=\u001b[0m\u001b[0minplace\u001b[0m\u001b[1;33m,\u001b[0m\u001b[1;33m\u001b[0m\u001b[1;33m\u001b[0m\u001b[0m\n\u001b[1;32m-> 3940\u001b[1;33m                                            errors=errors)\n\u001b[0m\u001b[0;32m   3941\u001b[0m \u001b[1;33m\u001b[0m\u001b[0m\n\u001b[0;32m   3942\u001b[0m     @rewrite_axis_style_signature('mapper', [('copy', True),\n",
      "\u001b[1;32mC:\\ProgramData\\Anaconda3\\lib\\site-packages\\pandas\\core\\generic.py\u001b[0m in \u001b[0;36mdrop\u001b[1;34m(self, labels, axis, index, columns, level, inplace, errors)\u001b[0m\n\u001b[0;32m   3778\u001b[0m         \u001b[1;32mfor\u001b[0m \u001b[0maxis\u001b[0m\u001b[1;33m,\u001b[0m \u001b[0mlabels\u001b[0m \u001b[1;32min\u001b[0m \u001b[0maxes\u001b[0m\u001b[1;33m.\u001b[0m\u001b[0mitems\u001b[0m\u001b[1;33m(\u001b[0m\u001b[1;33m)\u001b[0m\u001b[1;33m:\u001b[0m\u001b[1;33m\u001b[0m\u001b[1;33m\u001b[0m\u001b[0m\n\u001b[0;32m   3779\u001b[0m             \u001b[1;32mif\u001b[0m \u001b[0mlabels\u001b[0m \u001b[1;32mis\u001b[0m \u001b[1;32mnot\u001b[0m \u001b[1;32mNone\u001b[0m\u001b[1;33m:\u001b[0m\u001b[1;33m\u001b[0m\u001b[1;33m\u001b[0m\u001b[0m\n\u001b[1;32m-> 3780\u001b[1;33m                 \u001b[0mobj\u001b[0m \u001b[1;33m=\u001b[0m \u001b[0mobj\u001b[0m\u001b[1;33m.\u001b[0m\u001b[0m_drop_axis\u001b[0m\u001b[1;33m(\u001b[0m\u001b[0mlabels\u001b[0m\u001b[1;33m,\u001b[0m \u001b[0maxis\u001b[0m\u001b[1;33m,\u001b[0m \u001b[0mlevel\u001b[0m\u001b[1;33m=\u001b[0m\u001b[0mlevel\u001b[0m\u001b[1;33m,\u001b[0m \u001b[0merrors\u001b[0m\u001b[1;33m=\u001b[0m\u001b[0merrors\u001b[0m\u001b[1;33m)\u001b[0m\u001b[1;33m\u001b[0m\u001b[1;33m\u001b[0m\u001b[0m\n\u001b[0m\u001b[0;32m   3781\u001b[0m \u001b[1;33m\u001b[0m\u001b[0m\n\u001b[0;32m   3782\u001b[0m         \u001b[1;32mif\u001b[0m \u001b[0minplace\u001b[0m\u001b[1;33m:\u001b[0m\u001b[1;33m\u001b[0m\u001b[1;33m\u001b[0m\u001b[0m\n",
      "\u001b[1;32mC:\\ProgramData\\Anaconda3\\lib\\site-packages\\pandas\\core\\generic.py\u001b[0m in \u001b[0;36m_drop_axis\u001b[1;34m(self, labels, axis, level, errors)\u001b[0m\n\u001b[0;32m   3829\u001b[0m                 \u001b[0mlabels_missing\u001b[0m \u001b[1;33m=\u001b[0m \u001b[1;33m(\u001b[0m\u001b[0maxis\u001b[0m\u001b[1;33m.\u001b[0m\u001b[0mget_indexer_for\u001b[0m\u001b[1;33m(\u001b[0m\u001b[0mlabels\u001b[0m\u001b[1;33m)\u001b[0m \u001b[1;33m==\u001b[0m \u001b[1;33m-\u001b[0m\u001b[1;36m1\u001b[0m\u001b[1;33m)\u001b[0m\u001b[1;33m.\u001b[0m\u001b[0many\u001b[0m\u001b[1;33m(\u001b[0m\u001b[1;33m)\u001b[0m\u001b[1;33m\u001b[0m\u001b[1;33m\u001b[0m\u001b[0m\n\u001b[0;32m   3830\u001b[0m                 \u001b[1;32mif\u001b[0m \u001b[0merrors\u001b[0m \u001b[1;33m==\u001b[0m \u001b[1;34m'raise'\u001b[0m \u001b[1;32mand\u001b[0m \u001b[0mlabels_missing\u001b[0m\u001b[1;33m:\u001b[0m\u001b[1;33m\u001b[0m\u001b[1;33m\u001b[0m\u001b[0m\n\u001b[1;32m-> 3831\u001b[1;33m                     \u001b[1;32mraise\u001b[0m \u001b[0mKeyError\u001b[0m\u001b[1;33m(\u001b[0m\u001b[1;34m'{} not found in axis'\u001b[0m\u001b[1;33m.\u001b[0m\u001b[0mformat\u001b[0m\u001b[1;33m(\u001b[0m\u001b[0mlabels\u001b[0m\u001b[1;33m)\u001b[0m\u001b[1;33m)\u001b[0m\u001b[1;33m\u001b[0m\u001b[1;33m\u001b[0m\u001b[0m\n\u001b[0m\u001b[0;32m   3832\u001b[0m \u001b[1;33m\u001b[0m\u001b[0m\n\u001b[0;32m   3833\u001b[0m             \u001b[0mslicer\u001b[0m \u001b[1;33m=\u001b[0m \u001b[1;33m[\u001b[0m\u001b[0mslice\u001b[0m\u001b[1;33m(\u001b[0m\u001b[1;32mNone\u001b[0m\u001b[1;33m)\u001b[0m\u001b[1;33m]\u001b[0m \u001b[1;33m*\u001b[0m \u001b[0mself\u001b[0m\u001b[1;33m.\u001b[0m\u001b[0mndim\u001b[0m\u001b[1;33m\u001b[0m\u001b[1;33m\u001b[0m\u001b[0m\n",
      "\u001b[1;31mKeyError\u001b[0m: \"['20160409WOOB0' '20160409WOOB0' '20160515KTNC0' '20160515KTNC0'\\n '20160521KTHH0' '20160521KTHH0' '20160531HTLG0' '20160531HTLG0'\\n '20160623HHNC0' '20160623HHNC0' '20160709SSHH0' '20160709SSHH0'\\n '20160921NCLG0' '20160921NCLG0'] not found in axis\""
     ]
    }
   ],
   "source": [
    "start_pitcher_2016 = start_pitcher_2016.drop(draw_game_id)"
   ]
  },
  {
   "cell_type": "code",
   "execution_count": 119,
   "metadata": {},
   "outputs": [
    {
     "data": {
      "text/html": [
       "<div>\n",
       "<style scoped>\n",
       "    .dataframe tbody tr th:only-of-type {\n",
       "        vertical-align: middle;\n",
       "    }\n",
       "\n",
       "    .dataframe tbody tr th {\n",
       "        vertical-align: top;\n",
       "    }\n",
       "\n",
       "    .dataframe thead th {\n",
       "        text-align: right;\n",
       "    }\n",
       "</style>\n",
       "<table border=\"1\" class=\"dataframe\">\n",
       "  <thead>\n",
       "    <tr style=\"text-align: right;\">\n",
       "      <th></th>\n",
       "      <th>GDAY_DS</th>\n",
       "      <th>T_ID</th>\n",
       "      <th>VS_T_ID</th>\n",
       "      <th>HEADER_NO</th>\n",
       "      <th>TB_SC</th>\n",
       "      <th>P_ID</th>\n",
       "      <th>START_CK</th>\n",
       "      <th>RELIEF_CK</th>\n",
       "      <th>CG_CK</th>\n",
       "      <th>QUIT_CK</th>\n",
       "      <th>...</th>\n",
       "      <th>KK</th>\n",
       "      <th>GD</th>\n",
       "      <th>WP</th>\n",
       "      <th>BK</th>\n",
       "      <th>ERR</th>\n",
       "      <th>R</th>\n",
       "      <th>ER</th>\n",
       "      <th>P_WHIP_RT</th>\n",
       "      <th>P2_WHIP_RT</th>\n",
       "      <th>CB_WHIP_RT</th>\n",
       "    </tr>\n",
       "    <tr>\n",
       "      <th>G_ID</th>\n",
       "      <th></th>\n",
       "      <th></th>\n",
       "      <th></th>\n",
       "      <th></th>\n",
       "      <th></th>\n",
       "      <th></th>\n",
       "      <th></th>\n",
       "      <th></th>\n",
       "      <th></th>\n",
       "      <th></th>\n",
       "      <th></th>\n",
       "      <th></th>\n",
       "      <th></th>\n",
       "      <th></th>\n",
       "      <th></th>\n",
       "      <th></th>\n",
       "      <th></th>\n",
       "      <th></th>\n",
       "      <th></th>\n",
       "      <th></th>\n",
       "      <th></th>\n",
       "    </tr>\n",
       "  </thead>\n",
       "  <tbody>\n",
       "    <tr>\n",
       "      <th>20161008SSSK0</th>\n",
       "      <td>20161008</td>\n",
       "      <td>SK</td>\n",
       "      <td>SS</td>\n",
       "      <td>0</td>\n",
       "      <td>B</td>\n",
       "      <td>73228</td>\n",
       "      <td>1</td>\n",
       "      <td>0</td>\n",
       "      <td>0</td>\n",
       "      <td>0</td>\n",
       "      <td>...</td>\n",
       "      <td>0</td>\n",
       "      <td>0</td>\n",
       "      <td>0</td>\n",
       "      <td>0</td>\n",
       "      <td>0</td>\n",
       "      <td>0</td>\n",
       "      <td>0</td>\n",
       "      <td>0.0</td>\n",
       "      <td>0.00</td>\n",
       "      <td>0.000000</td>\n",
       "    </tr>\n",
       "    <tr>\n",
       "      <th>20161009KTNC0</th>\n",
       "      <td>20161009</td>\n",
       "      <td>NC</td>\n",
       "      <td>KT</td>\n",
       "      <td>0</td>\n",
       "      <td>B</td>\n",
       "      <td>62966</td>\n",
       "      <td>1</td>\n",
       "      <td>0</td>\n",
       "      <td>0</td>\n",
       "      <td>0</td>\n",
       "      <td>...</td>\n",
       "      <td>1</td>\n",
       "      <td>0</td>\n",
       "      <td>0</td>\n",
       "      <td>0</td>\n",
       "      <td>0</td>\n",
       "      <td>2</td>\n",
       "      <td>2</td>\n",
       "      <td>1.5</td>\n",
       "      <td>4.00</td>\n",
       "      <td>6.000000</td>\n",
       "    </tr>\n",
       "    <tr>\n",
       "      <th>20161009KTNC0</th>\n",
       "      <td>20161009</td>\n",
       "      <td>KT</td>\n",
       "      <td>NC</td>\n",
       "      <td>0</td>\n",
       "      <td>T</td>\n",
       "      <td>65058</td>\n",
       "      <td>1</td>\n",
       "      <td>0</td>\n",
       "      <td>0</td>\n",
       "      <td>0</td>\n",
       "      <td>...</td>\n",
       "      <td>3</td>\n",
       "      <td>0</td>\n",
       "      <td>0</td>\n",
       "      <td>0</td>\n",
       "      <td>1</td>\n",
       "      <td>3</td>\n",
       "      <td>2</td>\n",
       "      <td>0.6</td>\n",
       "      <td>1.75</td>\n",
       "      <td>1.500000</td>\n",
       "    </tr>\n",
       "    <tr>\n",
       "      <th>20161009WOLT0</th>\n",
       "      <td>20161009</td>\n",
       "      <td>WO</td>\n",
       "      <td>LT</td>\n",
       "      <td>0</td>\n",
       "      <td>T</td>\n",
       "      <td>62937</td>\n",
       "      <td>1</td>\n",
       "      <td>0</td>\n",
       "      <td>0</td>\n",
       "      <td>0</td>\n",
       "      <td>...</td>\n",
       "      <td>1</td>\n",
       "      <td>1</td>\n",
       "      <td>0</td>\n",
       "      <td>0</td>\n",
       "      <td>0</td>\n",
       "      <td>2</td>\n",
       "      <td>2</td>\n",
       "      <td>0.0</td>\n",
       "      <td>2.00</td>\n",
       "      <td>4.500000</td>\n",
       "    </tr>\n",
       "    <tr>\n",
       "      <th>20161009WOLT0</th>\n",
       "      <td>20161009</td>\n",
       "      <td>LT</td>\n",
       "      <td>WO</td>\n",
       "      <td>0</td>\n",
       "      <td>B</td>\n",
       "      <td>64021</td>\n",
       "      <td>1</td>\n",
       "      <td>0</td>\n",
       "      <td>0</td>\n",
       "      <td>0</td>\n",
       "      <td>...</td>\n",
       "      <td>2</td>\n",
       "      <td>1</td>\n",
       "      <td>0</td>\n",
       "      <td>0</td>\n",
       "      <td>0</td>\n",
       "      <td>3</td>\n",
       "      <td>3</td>\n",
       "      <td>1.5</td>\n",
       "      <td>1.80</td>\n",
       "      <td>0.857143</td>\n",
       "    </tr>\n",
       "  </tbody>\n",
       "</table>\n",
       "<p>5 rows × 37 columns</p>\n",
       "</div>"
      ],
      "text/plain": [
       "                GDAY_DS T_ID VS_T_ID  HEADER_NO TB_SC   P_ID  START_CK  \\\n",
       "G_ID                                                                     \n",
       "20161008SSSK0  20161008   SK      SS          0     B  73228         1   \n",
       "20161009KTNC0  20161009   NC      KT          0     B  62966         1   \n",
       "20161009KTNC0  20161009   KT      NC          0     T  65058         1   \n",
       "20161009WOLT0  20161009   WO      LT          0     T  62937         1   \n",
       "20161009WOLT0  20161009   LT      WO          0     B  64021         1   \n",
       "\n",
       "               RELIEF_CK  CG_CK  QUIT_CK  ... KK  GD  WP  BK  ERR  R  ER  \\\n",
       "G_ID                                      ...                              \n",
       "20161008SSSK0          0      0        0  ...  0   0   0   0    0  0   0   \n",
       "20161009KTNC0          0      0        0  ...  1   0   0   0    0  2   2   \n",
       "20161009KTNC0          0      0        0  ...  3   0   0   0    1  3   2   \n",
       "20161009WOLT0          0      0        0  ...  1   1   0   0    0  2   2   \n",
       "20161009WOLT0          0      0        0  ...  2   1   0   0    0  3   3   \n",
       "\n",
       "               P_WHIP_RT  P2_WHIP_RT  CB_WHIP_RT  \n",
       "G_ID                                              \n",
       "20161008SSSK0        0.0        0.00    0.000000  \n",
       "20161009KTNC0        1.5        4.00    6.000000  \n",
       "20161009KTNC0        0.6        1.75    1.500000  \n",
       "20161009WOLT0        0.0        2.00    4.500000  \n",
       "20161009WOLT0        1.5        1.80    0.857143  \n",
       "\n",
       "[5 rows x 37 columns]"
      ]
     },
     "execution_count": 119,
     "metadata": {},
     "output_type": "execute_result"
    }
   ],
   "source": [
    "start_pitcher_2016.tail()"
   ]
  },
  {
   "cell_type": "code",
   "execution_count": 128,
   "metadata": {},
   "outputs": [
    {
     "data": {
      "text/plain": [
       "1426"
      ]
     },
     "execution_count": 128,
     "metadata": {},
     "output_type": "execute_result"
    }
   ],
   "source": [
    "wls_list = game_wls['WLS'].tolist()\n",
    "len(wls_list)"
   ]
  },
  {
   "cell_type": "code",
   "execution_count": 133,
   "metadata": {},
   "outputs": [
    {
     "data": {
      "text/html": [
       "<div>\n",
       "<style scoped>\n",
       "    .dataframe tbody tr th:only-of-type {\n",
       "        vertical-align: middle;\n",
       "    }\n",
       "\n",
       "    .dataframe tbody tr th {\n",
       "        vertical-align: top;\n",
       "    }\n",
       "\n",
       "    .dataframe thead th {\n",
       "        text-align: right;\n",
       "    }\n",
       "</style>\n",
       "<table border=\"1\" class=\"dataframe\">\n",
       "  <thead>\n",
       "    <tr style=\"text-align: right;\">\n",
       "      <th></th>\n",
       "      <th>GDAY_DS</th>\n",
       "      <th>T_ID</th>\n",
       "      <th>VS_T_ID</th>\n",
       "      <th>HEADER_NO</th>\n",
       "      <th>TB_SC</th>\n",
       "      <th>P_ID</th>\n",
       "      <th>START_CK</th>\n",
       "      <th>RELIEF_CK</th>\n",
       "      <th>CG_CK</th>\n",
       "      <th>QUIT_CK</th>\n",
       "      <th>...</th>\n",
       "      <th>GD</th>\n",
       "      <th>WP</th>\n",
       "      <th>BK</th>\n",
       "      <th>ERR</th>\n",
       "      <th>R</th>\n",
       "      <th>ER</th>\n",
       "      <th>P_WHIP_RT</th>\n",
       "      <th>P2_WHIP_RT</th>\n",
       "      <th>CB_WHIP_RT</th>\n",
       "      <th>result</th>\n",
       "    </tr>\n",
       "    <tr>\n",
       "      <th>G_ID</th>\n",
       "      <th></th>\n",
       "      <th></th>\n",
       "      <th></th>\n",
       "      <th></th>\n",
       "      <th></th>\n",
       "      <th></th>\n",
       "      <th></th>\n",
       "      <th></th>\n",
       "      <th></th>\n",
       "      <th></th>\n",
       "      <th></th>\n",
       "      <th></th>\n",
       "      <th></th>\n",
       "      <th></th>\n",
       "      <th></th>\n",
       "      <th></th>\n",
       "      <th></th>\n",
       "      <th></th>\n",
       "      <th></th>\n",
       "      <th></th>\n",
       "      <th></th>\n",
       "    </tr>\n",
       "  </thead>\n",
       "  <tbody>\n",
       "    <tr>\n",
       "      <th>20160401HHLG0</th>\n",
       "      <td>20160401</td>\n",
       "      <td>LG</td>\n",
       "      <td>HH</td>\n",
       "      <td>0</td>\n",
       "      <td>B</td>\n",
       "      <td>62698</td>\n",
       "      <td>1</td>\n",
       "      <td>0</td>\n",
       "      <td>0</td>\n",
       "      <td>0</td>\n",
       "      <td>...</td>\n",
       "      <td>1</td>\n",
       "      <td>0</td>\n",
       "      <td>0</td>\n",
       "      <td>0</td>\n",
       "      <td>4</td>\n",
       "      <td>4</td>\n",
       "      <td>0.818182</td>\n",
       "      <td>1.588235</td>\n",
       "      <td>3.75</td>\n",
       "      <td>W</td>\n",
       "    </tr>\n",
       "    <tr>\n",
       "      <th>20160401HHLG0</th>\n",
       "      <td>20160401</td>\n",
       "      <td>HH</td>\n",
       "      <td>LG</td>\n",
       "      <td>0</td>\n",
       "      <td>T</td>\n",
       "      <td>73801</td>\n",
       "      <td>1</td>\n",
       "      <td>0</td>\n",
       "      <td>0</td>\n",
       "      <td>0</td>\n",
       "      <td>...</td>\n",
       "      <td>0</td>\n",
       "      <td>0</td>\n",
       "      <td>0</td>\n",
       "      <td>0</td>\n",
       "      <td>3</td>\n",
       "      <td>3</td>\n",
       "      <td>1.500000</td>\n",
       "      <td>1.500000</td>\n",
       "      <td>1.50</td>\n",
       "      <td>L</td>\n",
       "    </tr>\n",
       "    <tr>\n",
       "      <th>20160401HTNC0</th>\n",
       "      <td>20160401</td>\n",
       "      <td>NC</td>\n",
       "      <td>HT</td>\n",
       "      <td>0</td>\n",
       "      <td>B</td>\n",
       "      <td>63938</td>\n",
       "      <td>1</td>\n",
       "      <td>0</td>\n",
       "      <td>0</td>\n",
       "      <td>0</td>\n",
       "      <td>...</td>\n",
       "      <td>1</td>\n",
       "      <td>2</td>\n",
       "      <td>0</td>\n",
       "      <td>0</td>\n",
       "      <td>4</td>\n",
       "      <td>4</td>\n",
       "      <td>1.200000</td>\n",
       "      <td>1.125000</td>\n",
       "      <td>2.40</td>\n",
       "      <td>W</td>\n",
       "    </tr>\n",
       "    <tr>\n",
       "      <th>20160401HTNC0</th>\n",
       "      <td>20160401</td>\n",
       "      <td>HT</td>\n",
       "      <td>NC</td>\n",
       "      <td>0</td>\n",
       "      <td>T</td>\n",
       "      <td>77637</td>\n",
       "      <td>1</td>\n",
       "      <td>0</td>\n",
       "      <td>0</td>\n",
       "      <td>0</td>\n",
       "      <td>...</td>\n",
       "      <td>1</td>\n",
       "      <td>0</td>\n",
       "      <td>0</td>\n",
       "      <td>0</td>\n",
       "      <td>4</td>\n",
       "      <td>4</td>\n",
       "      <td>0.000000</td>\n",
       "      <td>1.588235</td>\n",
       "      <td>2.00</td>\n",
       "      <td>L</td>\n",
       "    </tr>\n",
       "    <tr>\n",
       "      <th>20160401KTSK0</th>\n",
       "      <td>20160401</td>\n",
       "      <td>KT</td>\n",
       "      <td>SK</td>\n",
       "      <td>0</td>\n",
       "      <td>T</td>\n",
       "      <td>66049</td>\n",
       "      <td>1</td>\n",
       "      <td>0</td>\n",
       "      <td>0</td>\n",
       "      <td>0</td>\n",
       "      <td>...</td>\n",
       "      <td>0</td>\n",
       "      <td>0</td>\n",
       "      <td>0</td>\n",
       "      <td>0</td>\n",
       "      <td>4</td>\n",
       "      <td>4</td>\n",
       "      <td>3.000000</td>\n",
       "      <td>1.750000</td>\n",
       "      <td>0.00</td>\n",
       "      <td>W</td>\n",
       "    </tr>\n",
       "  </tbody>\n",
       "</table>\n",
       "<p>5 rows × 38 columns</p>\n",
       "</div>"
      ],
      "text/plain": [
       "                GDAY_DS T_ID VS_T_ID  HEADER_NO TB_SC   P_ID  START_CK  \\\n",
       "G_ID                                                                     \n",
       "20160401HHLG0  20160401   LG      HH          0     B  62698         1   \n",
       "20160401HHLG0  20160401   HH      LG          0     T  73801         1   \n",
       "20160401HTNC0  20160401   NC      HT          0     B  63938         1   \n",
       "20160401HTNC0  20160401   HT      NC          0     T  77637         1   \n",
       "20160401KTSK0  20160401   KT      SK          0     T  66049         1   \n",
       "\n",
       "               RELIEF_CK  CG_CK  QUIT_CK  ... GD  WP  BK  ERR  R  ER  \\\n",
       "G_ID                                      ...                          \n",
       "20160401HHLG0          0      0        0  ...  1   0   0    0  4   4   \n",
       "20160401HHLG0          0      0        0  ...  0   0   0    0  3   3   \n",
       "20160401HTNC0          0      0        0  ...  1   2   0    0  4   4   \n",
       "20160401HTNC0          0      0        0  ...  1   0   0    0  4   4   \n",
       "20160401KTSK0          0      0        0  ...  0   0   0    0  4   4   \n",
       "\n",
       "               P_WHIP_RT  P2_WHIP_RT  CB_WHIP_RT  result  \n",
       "G_ID                                                      \n",
       "20160401HHLG0   0.818182    1.588235        3.75       W  \n",
       "20160401HHLG0   1.500000    1.500000        1.50       L  \n",
       "20160401HTNC0   1.200000    1.125000        2.40       W  \n",
       "20160401HTNC0   0.000000    1.588235        2.00       L  \n",
       "20160401KTSK0   3.000000    1.750000        0.00       W  \n",
       "\n",
       "[5 rows x 38 columns]"
      ]
     },
     "execution_count": 133,
     "metadata": {},
     "output_type": "execute_result"
    }
   ],
   "source": [
    "start_pitcher_2016['result'] = wls_list\n",
    "start_pitcher_2016.head()"
   ]
  },
  {
   "cell_type": "code",
   "execution_count": 135,
   "metadata": {},
   "outputs": [],
   "source": [
    "start_pitcher_2016 = start_pitcher_2016.reset_index()"
   ]
  },
  {
   "cell_type": "markdown",
   "metadata": {},
   "source": [
    "### 질문리스트\n",
    "1. 이긴 팀과 진 팀의 선발투수는 어떻게 다를까?\n",
    "2. 승리 수가 많은 투수는 어떤 특징을 가질까?\n",
    "3. 승률이 높은 투수는 어떤 특징을 가질까?"
   ]
  },
  {
   "cell_type": "code",
   "execution_count": 140,
   "metadata": {},
   "outputs": [
    {
     "data": {
      "text/html": [
       "<div>\n",
       "<style scoped>\n",
       "    .dataframe tbody tr th:only-of-type {\n",
       "        vertical-align: middle;\n",
       "    }\n",
       "\n",
       "    .dataframe tbody tr th {\n",
       "        vertical-align: top;\n",
       "    }\n",
       "\n",
       "    .dataframe thead th {\n",
       "        text-align: right;\n",
       "    }\n",
       "</style>\n",
       "<table border=\"1\" class=\"dataframe\">\n",
       "  <thead>\n",
       "    <tr style=\"text-align: right;\">\n",
       "      <th></th>\n",
       "      <th>GDAY_DS</th>\n",
       "      <th>T_ID</th>\n",
       "      <th>TB_SC</th>\n",
       "      <th>P_ID</th>\n",
       "      <th>INN2</th>\n",
       "      <th>BF</th>\n",
       "      <th>PA</th>\n",
       "      <th>AB</th>\n",
       "      <th>HIT</th>\n",
       "      <th>H2</th>\n",
       "      <th>...</th>\n",
       "      <th>KK</th>\n",
       "      <th>GD</th>\n",
       "      <th>WP</th>\n",
       "      <th>BK</th>\n",
       "      <th>ERR</th>\n",
       "      <th>R</th>\n",
       "      <th>ER</th>\n",
       "      <th>P_WHIP_RT</th>\n",
       "      <th>P2_WHIP_RT</th>\n",
       "      <th>CB_WHIP_RT</th>\n",
       "    </tr>\n",
       "  </thead>\n",
       "  <tbody>\n",
       "    <tr>\n",
       "      <th>0</th>\n",
       "      <td>20160401</td>\n",
       "      <td>LG</td>\n",
       "      <td>B</td>\n",
       "      <td>62698</td>\n",
       "      <td>18</td>\n",
       "      <td>94</td>\n",
       "      <td>28</td>\n",
       "      <td>25</td>\n",
       "      <td>9</td>\n",
       "      <td>2</td>\n",
       "      <td>...</td>\n",
       "      <td>4</td>\n",
       "      <td>1</td>\n",
       "      <td>0</td>\n",
       "      <td>0</td>\n",
       "      <td>0</td>\n",
       "      <td>4</td>\n",
       "      <td>4</td>\n",
       "      <td>0.818182</td>\n",
       "      <td>1.588235</td>\n",
       "      <td>3.75</td>\n",
       "    </tr>\n",
       "    <tr>\n",
       "      <th>2</th>\n",
       "      <td>20160401</td>\n",
       "      <td>NC</td>\n",
       "      <td>B</td>\n",
       "      <td>63938</td>\n",
       "      <td>17</td>\n",
       "      <td>85</td>\n",
       "      <td>25</td>\n",
       "      <td>23</td>\n",
       "      <td>7</td>\n",
       "      <td>2</td>\n",
       "      <td>...</td>\n",
       "      <td>5</td>\n",
       "      <td>1</td>\n",
       "      <td>2</td>\n",
       "      <td>0</td>\n",
       "      <td>0</td>\n",
       "      <td>4</td>\n",
       "      <td>4</td>\n",
       "      <td>1.200000</td>\n",
       "      <td>1.125000</td>\n",
       "      <td>2.40</td>\n",
       "    </tr>\n",
       "    <tr>\n",
       "      <th>4</th>\n",
       "      <td>20160401</td>\n",
       "      <td>KT</td>\n",
       "      <td>T</td>\n",
       "      <td>66049</td>\n",
       "      <td>18</td>\n",
       "      <td>106</td>\n",
       "      <td>25</td>\n",
       "      <td>25</td>\n",
       "      <td>7</td>\n",
       "      <td>3</td>\n",
       "      <td>...</td>\n",
       "      <td>2</td>\n",
       "      <td>0</td>\n",
       "      <td>0</td>\n",
       "      <td>0</td>\n",
       "      <td>0</td>\n",
       "      <td>4</td>\n",
       "      <td>4</td>\n",
       "      <td>3.000000</td>\n",
       "      <td>1.750000</td>\n",
       "      <td>0.00</td>\n",
       "    </tr>\n",
       "    <tr>\n",
       "      <th>7</th>\n",
       "      <td>20160401</td>\n",
       "      <td>LT</td>\n",
       "      <td>T</td>\n",
       "      <td>65543</td>\n",
       "      <td>18</td>\n",
       "      <td>98</td>\n",
       "      <td>26</td>\n",
       "      <td>21</td>\n",
       "      <td>4</td>\n",
       "      <td>1</td>\n",
       "      <td>...</td>\n",
       "      <td>5</td>\n",
       "      <td>0</td>\n",
       "      <td>0</td>\n",
       "      <td>0</td>\n",
       "      <td>0</td>\n",
       "      <td>0</td>\n",
       "      <td>0</td>\n",
       "      <td>0.000000</td>\n",
       "      <td>1.500000</td>\n",
       "      <td>1.50</td>\n",
       "    </tr>\n",
       "    <tr>\n",
       "      <th>8</th>\n",
       "      <td>20160401</td>\n",
       "      <td>OB</td>\n",
       "      <td>T</td>\n",
       "      <td>61240</td>\n",
       "      <td>18</td>\n",
       "      <td>101</td>\n",
       "      <td>23</td>\n",
       "      <td>22</td>\n",
       "      <td>6</td>\n",
       "      <td>0</td>\n",
       "      <td>...</td>\n",
       "      <td>5</td>\n",
       "      <td>1</td>\n",
       "      <td>0</td>\n",
       "      <td>0</td>\n",
       "      <td>0</td>\n",
       "      <td>1</td>\n",
       "      <td>1</td>\n",
       "      <td>1.500000</td>\n",
       "      <td>2.000000</td>\n",
       "      <td>3.00</td>\n",
       "    </tr>\n",
       "  </tbody>\n",
       "</table>\n",
       "<p>5 rows × 29 columns</p>\n",
       "</div>"
      ],
      "text/plain": [
       "    GDAY_DS T_ID TB_SC   P_ID  INN2   BF  PA  AB  HIT  H2  ...  KK  GD  WP  \\\n",
       "0  20160401   LG     B  62698    18   94  28  25    9   2  ...   4   1   0   \n",
       "2  20160401   NC     B  63938    17   85  25  23    7   2  ...   5   1   2   \n",
       "4  20160401   KT     T  66049    18  106  25  25    7   3  ...   2   0   0   \n",
       "7  20160401   LT     T  65543    18   98  26  21    4   1  ...   5   0   0   \n",
       "8  20160401   OB     T  61240    18  101  23  22    6   0  ...   5   1   0   \n",
       "\n",
       "   BK  ERR  R  ER  P_WHIP_RT  P2_WHIP_RT  CB_WHIP_RT  \n",
       "0   0    0  4   4   0.818182    1.588235        3.75  \n",
       "2   0    0  4   4   1.200000    1.125000        2.40  \n",
       "4   0    0  4   4   3.000000    1.750000        0.00  \n",
       "7   0    0  0   0   0.000000    1.500000        1.50  \n",
       "8   0    0  1   1   1.500000    2.000000        3.00  \n",
       "\n",
       "[5 rows x 29 columns]"
      ]
     },
     "execution_count": 140,
     "metadata": {},
     "output_type": "execute_result"
    }
   ],
   "source": [
    "start_pitcher_w = start_pitcher_2016.loc[start_pitcher_2016['result']==\"W\"]\n",
    "start_pitcher_w = start_pitcher_w.drop(axis=1,columns=['G_ID','HEADER_NO','VS_T_ID','result','START_CK','RELIEF_CK','CG_CK','QUIT_CK','WLS', 'HOLD'])\n",
    "start_pitcher_w.head()"
   ]
  },
  {
   "cell_type": "code",
   "execution_count": 141,
   "metadata": {},
   "outputs": [
    {
     "data": {
      "text/html": [
       "<div>\n",
       "<style scoped>\n",
       "    .dataframe tbody tr th:only-of-type {\n",
       "        vertical-align: middle;\n",
       "    }\n",
       "\n",
       "    .dataframe tbody tr th {\n",
       "        vertical-align: top;\n",
       "    }\n",
       "\n",
       "    .dataframe thead th {\n",
       "        text-align: right;\n",
       "    }\n",
       "</style>\n",
       "<table border=\"1\" class=\"dataframe\">\n",
       "  <thead>\n",
       "    <tr style=\"text-align: right;\">\n",
       "      <th></th>\n",
       "      <th>GDAY_DS</th>\n",
       "      <th>T_ID</th>\n",
       "      <th>TB_SC</th>\n",
       "      <th>P_ID</th>\n",
       "      <th>INN2</th>\n",
       "      <th>BF</th>\n",
       "      <th>PA</th>\n",
       "      <th>AB</th>\n",
       "      <th>HIT</th>\n",
       "      <th>H2</th>\n",
       "      <th>...</th>\n",
       "      <th>KK</th>\n",
       "      <th>GD</th>\n",
       "      <th>WP</th>\n",
       "      <th>BK</th>\n",
       "      <th>ERR</th>\n",
       "      <th>R</th>\n",
       "      <th>ER</th>\n",
       "      <th>P_WHIP_RT</th>\n",
       "      <th>P2_WHIP_RT</th>\n",
       "      <th>CB_WHIP_RT</th>\n",
       "    </tr>\n",
       "  </thead>\n",
       "  <tbody>\n",
       "    <tr>\n",
       "      <th>1</th>\n",
       "      <td>20160401</td>\n",
       "      <td>HH</td>\n",
       "      <td>T</td>\n",
       "      <td>73801</td>\n",
       "      <td>9</td>\n",
       "      <td>57</td>\n",
       "      <td>15</td>\n",
       "      <td>14</td>\n",
       "      <td>5</td>\n",
       "      <td>1</td>\n",
       "      <td>...</td>\n",
       "      <td>4</td>\n",
       "      <td>0</td>\n",
       "      <td>0</td>\n",
       "      <td>0</td>\n",
       "      <td>0</td>\n",
       "      <td>3</td>\n",
       "      <td>3</td>\n",
       "      <td>1.5</td>\n",
       "      <td>1.500000</td>\n",
       "      <td>1.500000</td>\n",
       "    </tr>\n",
       "    <tr>\n",
       "      <th>3</th>\n",
       "      <td>20160401</td>\n",
       "      <td>HT</td>\n",
       "      <td>T</td>\n",
       "      <td>77637</td>\n",
       "      <td>18</td>\n",
       "      <td>112</td>\n",
       "      <td>26</td>\n",
       "      <td>22</td>\n",
       "      <td>6</td>\n",
       "      <td>2</td>\n",
       "      <td>...</td>\n",
       "      <td>7</td>\n",
       "      <td>1</td>\n",
       "      <td>0</td>\n",
       "      <td>0</td>\n",
       "      <td>0</td>\n",
       "      <td>4</td>\n",
       "      <td>4</td>\n",
       "      <td>0.0</td>\n",
       "      <td>1.588235</td>\n",
       "      <td>2.000000</td>\n",
       "    </tr>\n",
       "    <tr>\n",
       "      <th>5</th>\n",
       "      <td>20160401</td>\n",
       "      <td>SK</td>\n",
       "      <td>B</td>\n",
       "      <td>77829</td>\n",
       "      <td>14</td>\n",
       "      <td>91</td>\n",
       "      <td>26</td>\n",
       "      <td>22</td>\n",
       "      <td>9</td>\n",
       "      <td>0</td>\n",
       "      <td>...</td>\n",
       "      <td>4</td>\n",
       "      <td>0</td>\n",
       "      <td>0</td>\n",
       "      <td>0</td>\n",
       "      <td>0</td>\n",
       "      <td>7</td>\n",
       "      <td>7</td>\n",
       "      <td>1.5</td>\n",
       "      <td>2.357143</td>\n",
       "      <td>1.800000</td>\n",
       "    </tr>\n",
       "    <tr>\n",
       "      <th>6</th>\n",
       "      <td>20160401</td>\n",
       "      <td>WO</td>\n",
       "      <td>B</td>\n",
       "      <td>65331</td>\n",
       "      <td>18</td>\n",
       "      <td>90</td>\n",
       "      <td>26</td>\n",
       "      <td>26</td>\n",
       "      <td>9</td>\n",
       "      <td>2</td>\n",
       "      <td>...</td>\n",
       "      <td>5</td>\n",
       "      <td>2</td>\n",
       "      <td>0</td>\n",
       "      <td>0</td>\n",
       "      <td>0</td>\n",
       "      <td>2</td>\n",
       "      <td>1</td>\n",
       "      <td>0.3</td>\n",
       "      <td>1.500000</td>\n",
       "      <td>1.285714</td>\n",
       "    </tr>\n",
       "    <tr>\n",
       "      <th>9</th>\n",
       "      <td>20160401</td>\n",
       "      <td>SS</td>\n",
       "      <td>B</td>\n",
       "      <td>76455</td>\n",
       "      <td>18</td>\n",
       "      <td>110</td>\n",
       "      <td>25</td>\n",
       "      <td>21</td>\n",
       "      <td>5</td>\n",
       "      <td>0</td>\n",
       "      <td>...</td>\n",
       "      <td>1</td>\n",
       "      <td>1</td>\n",
       "      <td>0</td>\n",
       "      <td>0</td>\n",
       "      <td>1</td>\n",
       "      <td>4</td>\n",
       "      <td>3</td>\n",
       "      <td>0.6</td>\n",
       "      <td>2.571429</td>\n",
       "      <td>2.400000</td>\n",
       "    </tr>\n",
       "  </tbody>\n",
       "</table>\n",
       "<p>5 rows × 29 columns</p>\n",
       "</div>"
      ],
      "text/plain": [
       "    GDAY_DS T_ID TB_SC   P_ID  INN2   BF  PA  AB  HIT  H2  ...  KK  GD  WP  \\\n",
       "1  20160401   HH     T  73801     9   57  15  14    5   1  ...   4   0   0   \n",
       "3  20160401   HT     T  77637    18  112  26  22    6   2  ...   7   1   0   \n",
       "5  20160401   SK     B  77829    14   91  26  22    9   0  ...   4   0   0   \n",
       "6  20160401   WO     B  65331    18   90  26  26    9   2  ...   5   2   0   \n",
       "9  20160401   SS     B  76455    18  110  25  21    5   0  ...   1   1   0   \n",
       "\n",
       "   BK  ERR  R  ER  P_WHIP_RT  P2_WHIP_RT  CB_WHIP_RT  \n",
       "1   0    0  3   3        1.5    1.500000    1.500000  \n",
       "3   0    0  4   4        0.0    1.588235    2.000000  \n",
       "5   0    0  7   7        1.5    2.357143    1.800000  \n",
       "6   0    0  2   1        0.3    1.500000    1.285714  \n",
       "9   0    1  4   3        0.6    2.571429    2.400000  \n",
       "\n",
       "[5 rows x 29 columns]"
      ]
     },
     "execution_count": 141,
     "metadata": {},
     "output_type": "execute_result"
    }
   ],
   "source": [
    "start_pitcher_l = start_pitcher_2016.loc[start_pitcher_2016['result']==\"L\"]\n",
    "start_pitcher_l = start_pitcher_l.drop(axis=1,columns=['G_ID','HEADER_NO','VS_T_ID','result','START_CK','RELIEF_CK','CG_CK','QUIT_CK','WLS', 'HOLD'])\n",
    "start_pitcher_l.head()"
   ]
  },
  {
   "cell_type": "code",
   "execution_count": 144,
   "metadata": {},
   "outputs": [
    {
     "data": {
      "text/html": [
       "        <script type=\"text/javascript\">\n",
       "        window.PlotlyConfig = {MathJaxConfig: 'local'};\n",
       "        if (window.MathJax) {MathJax.Hub.Config({SVG: {font: \"STIX-Web\"}});}\n",
       "        if (typeof require !== 'undefined') {\n",
       "        require.undef(\"plotly\");\n",
       "        requirejs.config({\n",
       "            paths: {\n",
       "                'plotly': ['https://cdn.plot.ly/plotly-latest.min']\n",
       "            }\n",
       "        });\n",
       "        require(['plotly'], function(Plotly) {\n",
       "            window._Plotly = Plotly;\n",
       "        });\n",
       "        }\n",
       "        </script>\n",
       "        "
      ]
     },
     "metadata": {},
     "output_type": "display_data"
    }
   ],
   "source": [
    "import chart_studio.plotly as py\n",
    "import cufflinks as cf\n",
    "cf.go_offline(connected=True)"
   ]
  },
  {
   "cell_type": "code",
   "execution_count": 198,
   "metadata": {},
   "outputs": [
    {
     "data": {
      "text/plain": [
       "['INN2',\n",
       " 'BF',\n",
       " 'PA',\n",
       " 'AB',\n",
       " 'HIT',\n",
       " 'H2',\n",
       " 'H3',\n",
       " 'HR',\n",
       " 'SB',\n",
       " 'CS',\n",
       " 'SH',\n",
       " 'SF',\n",
       " 'BB',\n",
       " 'IB',\n",
       " 'HP',\n",
       " 'KK',\n",
       " 'GD',\n",
       " 'WP',\n",
       " 'BK',\n",
       " 'ERR',\n",
       " 'R',\n",
       " 'ER',\n",
       " 'P_WHIP_RT',\n",
       " 'P2_WHIP_RT',\n",
       " 'CB_WHIP_RT']"
      ]
     },
     "execution_count": 198,
     "metadata": {},
     "output_type": "execute_result"
    }
   ],
   "source": [
    "avg_index = list(start_pitcher_w.columns[4:])\n",
    "avg_index"
   ]
  },
  {
   "cell_type": "code",
   "execution_count": 170,
   "metadata": {},
   "outputs": [
    {
     "data": {
      "text/plain": [
       "B    368\n",
       "T    345\n",
       "Name: TB_SC, dtype: int64"
      ]
     },
     "execution_count": 170,
     "metadata": {},
     "output_type": "execute_result"
    }
   ],
   "source": [
    "start_pitcher_w['TB_SC'].value_counts()"
   ]
  },
  {
   "cell_type": "code",
   "execution_count": 173,
   "metadata": {},
   "outputs": [
    {
     "name": "stdout",
     "output_type": "stream",
     "text": [
      "16.936886395511923\n",
      "13.642356241234221\n"
     ]
    }
   ],
   "source": [
    "print(start_pitcher_w['INN2'].mean())\n",
    "print(start_pitcher_l['INN2'].mean())"
   ]
  },
  {
   "cell_type": "code",
   "execution_count": 174,
   "metadata": {},
   "outputs": [
    {
     "name": "stdout",
     "output_type": "stream",
     "text": [
      "93.13183730715288\n",
      "84.39691444600281\n"
     ]
    }
   ],
   "source": [
    "print(start_pitcher_w['BF'].mean())\n",
    "print(start_pitcher_l['BF'].mean())"
   ]
  },
  {
   "cell_type": "code",
   "execution_count": 175,
   "metadata": {},
   "outputs": [
    {
     "name": "stdout",
     "output_type": "stream",
     "text": [
      "23.964936886395513\n",
      "21.84992987377279\n"
     ]
    }
   ],
   "source": [
    "# 타자\n",
    "print(start_pitcher_w['PA'].mean())\n",
    "print(start_pitcher_l['PA'].mean())"
   ]
  },
  {
   "cell_type": "code",
   "execution_count": 176,
   "metadata": {},
   "outputs": [
    {
     "name": "stdout",
     "output_type": "stream",
     "text": [
      "21.374474053295934\n",
      "18.817671809256662\n"
     ]
    }
   ],
   "source": [
    "# 타수\n",
    "print(start_pitcher_w['AB'].mean())\n",
    "print(start_pitcher_l['AB'].mean())"
   ]
  },
  {
   "cell_type": "code",
   "execution_count": 178,
   "metadata": {},
   "outputs": [
    {
     "data": {
      "text/html": [
       "<div>\n",
       "<style scoped>\n",
       "    .dataframe tbody tr th:only-of-type {\n",
       "        vertical-align: middle;\n",
       "    }\n",
       "\n",
       "    .dataframe tbody tr th {\n",
       "        vertical-align: top;\n",
       "    }\n",
       "\n",
       "    .dataframe thead th {\n",
       "        text-align: right;\n",
       "    }\n",
       "</style>\n",
       "<table border=\"1\" class=\"dataframe\">\n",
       "  <thead>\n",
       "    <tr style=\"text-align: right;\">\n",
       "      <th></th>\n",
       "      <th>GDAY_DS</th>\n",
       "      <th>T_ID</th>\n",
       "      <th>TB_SC</th>\n",
       "      <th>P_ID</th>\n",
       "      <th>INN2</th>\n",
       "      <th>BF</th>\n",
       "      <th>PA</th>\n",
       "      <th>AB</th>\n",
       "      <th>HIT</th>\n",
       "      <th>H2</th>\n",
       "      <th>...</th>\n",
       "      <th>KK</th>\n",
       "      <th>GD</th>\n",
       "      <th>WP</th>\n",
       "      <th>BK</th>\n",
       "      <th>ERR</th>\n",
       "      <th>R</th>\n",
       "      <th>ER</th>\n",
       "      <th>P_WHIP_RT</th>\n",
       "      <th>P2_WHIP_RT</th>\n",
       "      <th>CB_WHIP_RT</th>\n",
       "    </tr>\n",
       "  </thead>\n",
       "  <tbody>\n",
       "    <tr>\n",
       "      <th>0</th>\n",
       "      <td>20160401</td>\n",
       "      <td>LG</td>\n",
       "      <td>B</td>\n",
       "      <td>62698</td>\n",
       "      <td>18</td>\n",
       "      <td>94</td>\n",
       "      <td>28</td>\n",
       "      <td>25</td>\n",
       "      <td>9</td>\n",
       "      <td>2</td>\n",
       "      <td>...</td>\n",
       "      <td>4</td>\n",
       "      <td>1</td>\n",
       "      <td>0</td>\n",
       "      <td>0</td>\n",
       "      <td>0</td>\n",
       "      <td>4</td>\n",
       "      <td>4</td>\n",
       "      <td>0.818182</td>\n",
       "      <td>1.588235</td>\n",
       "      <td>3.75</td>\n",
       "    </tr>\n",
       "    <tr>\n",
       "      <th>2</th>\n",
       "      <td>20160401</td>\n",
       "      <td>NC</td>\n",
       "      <td>B</td>\n",
       "      <td>63938</td>\n",
       "      <td>17</td>\n",
       "      <td>85</td>\n",
       "      <td>25</td>\n",
       "      <td>23</td>\n",
       "      <td>7</td>\n",
       "      <td>2</td>\n",
       "      <td>...</td>\n",
       "      <td>5</td>\n",
       "      <td>1</td>\n",
       "      <td>2</td>\n",
       "      <td>0</td>\n",
       "      <td>0</td>\n",
       "      <td>4</td>\n",
       "      <td>4</td>\n",
       "      <td>1.200000</td>\n",
       "      <td>1.125000</td>\n",
       "      <td>2.40</td>\n",
       "    </tr>\n",
       "    <tr>\n",
       "      <th>4</th>\n",
       "      <td>20160401</td>\n",
       "      <td>KT</td>\n",
       "      <td>T</td>\n",
       "      <td>66049</td>\n",
       "      <td>18</td>\n",
       "      <td>106</td>\n",
       "      <td>25</td>\n",
       "      <td>25</td>\n",
       "      <td>7</td>\n",
       "      <td>3</td>\n",
       "      <td>...</td>\n",
       "      <td>2</td>\n",
       "      <td>0</td>\n",
       "      <td>0</td>\n",
       "      <td>0</td>\n",
       "      <td>0</td>\n",
       "      <td>4</td>\n",
       "      <td>4</td>\n",
       "      <td>3.000000</td>\n",
       "      <td>1.750000</td>\n",
       "      <td>0.00</td>\n",
       "    </tr>\n",
       "    <tr>\n",
       "      <th>7</th>\n",
       "      <td>20160401</td>\n",
       "      <td>LT</td>\n",
       "      <td>T</td>\n",
       "      <td>65543</td>\n",
       "      <td>18</td>\n",
       "      <td>98</td>\n",
       "      <td>26</td>\n",
       "      <td>21</td>\n",
       "      <td>4</td>\n",
       "      <td>1</td>\n",
       "      <td>...</td>\n",
       "      <td>5</td>\n",
       "      <td>0</td>\n",
       "      <td>0</td>\n",
       "      <td>0</td>\n",
       "      <td>0</td>\n",
       "      <td>0</td>\n",
       "      <td>0</td>\n",
       "      <td>0.000000</td>\n",
       "      <td>1.500000</td>\n",
       "      <td>1.50</td>\n",
       "    </tr>\n",
       "    <tr>\n",
       "      <th>8</th>\n",
       "      <td>20160401</td>\n",
       "      <td>OB</td>\n",
       "      <td>T</td>\n",
       "      <td>61240</td>\n",
       "      <td>18</td>\n",
       "      <td>101</td>\n",
       "      <td>23</td>\n",
       "      <td>22</td>\n",
       "      <td>6</td>\n",
       "      <td>0</td>\n",
       "      <td>...</td>\n",
       "      <td>5</td>\n",
       "      <td>1</td>\n",
       "      <td>0</td>\n",
       "      <td>0</td>\n",
       "      <td>0</td>\n",
       "      <td>1</td>\n",
       "      <td>1</td>\n",
       "      <td>1.500000</td>\n",
       "      <td>2.000000</td>\n",
       "      <td>3.00</td>\n",
       "    </tr>\n",
       "  </tbody>\n",
       "</table>\n",
       "<p>5 rows × 29 columns</p>\n",
       "</div>"
      ],
      "text/plain": [
       "    GDAY_DS T_ID TB_SC   P_ID  INN2   BF  PA  AB  HIT  H2  ...  KK  GD  WP  \\\n",
       "0  20160401   LG     B  62698    18   94  28  25    9   2  ...   4   1   0   \n",
       "2  20160401   NC     B  63938    17   85  25  23    7   2  ...   5   1   2   \n",
       "4  20160401   KT     T  66049    18  106  25  25    7   3  ...   2   0   0   \n",
       "7  20160401   LT     T  65543    18   98  26  21    4   1  ...   5   0   0   \n",
       "8  20160401   OB     T  61240    18  101  23  22    6   0  ...   5   1   0   \n",
       "\n",
       "   BK  ERR  R  ER  P_WHIP_RT  P2_WHIP_RT  CB_WHIP_RT  \n",
       "0   0    0  4   4   0.818182    1.588235        3.75  \n",
       "2   0    0  4   4   1.200000    1.125000        2.40  \n",
       "4   0    0  4   4   3.000000    1.750000        0.00  \n",
       "7   0    0  0   0   0.000000    1.500000        1.50  \n",
       "8   0    0  1   1   1.500000    2.000000        3.00  \n",
       "\n",
       "[5 rows x 29 columns]"
      ]
     },
     "execution_count": 178,
     "metadata": {},
     "output_type": "execute_result"
    }
   ],
   "source": [
    "start_pitcher_w.head()"
   ]
  },
  {
   "cell_type": "code",
   "execution_count": 199,
   "metadata": {},
   "outputs": [],
   "source": [
    "w_avg = start_pitcher_w.loc[:,avg_index].agg('mean')\n",
    "l_avg = start_pitcher_l.loc[:,avg_index].agg('mean')"
   ]
  },
  {
   "cell_type": "code",
   "execution_count": 214,
   "metadata": {},
   "outputs": [
    {
     "data": {
      "application/vnd.plotly.v1+json": {
       "config": {
        "plotlyServerURL": "https://plot.ly"
       },
       "data": [
        {
         "text": [
          16.936886395511923,
          93.13183730715288,
          23.964936886395513,
          21.374474053295934,
          5.542776998597476,
          0.8821879382889201,
          0.0785413744740533,
          0.5049088359046283,
          0.32538569424964936,
          0.2370266479663394,
          0.18653576437587657,
          0.15287517531556802,
          1.9509116409537166,
          0.0070126227208976155,
          0.29873772791023845,
          4.166900420757363,
          0.5553997194950911,
          0.20476858345021037,
          0.012622720897615708,
          0.04908835904628331,
          2.3856942496493687,
          2.214586255259467,
          1.405380442375877,
          1.3227142472258056,
          1.8643379294852744
         ],
         "textposition": "auto",
         "texttemplate": "%{text:.4f}",
         "type": "bar",
         "x": [
          "INN2",
          "BF",
          "PA",
          "AB",
          "HIT",
          "H2",
          "H3",
          "HR",
          "SB",
          "CS",
          "SH",
          "SF",
          "BB",
          "IB",
          "HP",
          "KK",
          "GD",
          "WP",
          "BK",
          "ERR",
          "R",
          "ER",
          "P_WHIP_RT",
          "P2_WHIP_RT",
          "CB_WHIP_RT"
         ],
         "y": [
          16.936886395511923,
          93.13183730715288,
          23.964936886395513,
          21.374474053295934,
          5.542776998597476,
          0.8821879382889201,
          0.0785413744740533,
          0.5049088359046283,
          0.32538569424964936,
          0.2370266479663394,
          0.18653576437587657,
          0.15287517531556802,
          1.9509116409537166,
          0.0070126227208976155,
          0.29873772791023845,
          4.166900420757363,
          0.5553997194950911,
          0.20476858345021037,
          0.012622720897615708,
          0.04908835904628331,
          2.3856942496493687,
          2.214586255259467,
          1.405380442375877,
          1.3227142472258056,
          1.8643379294852744
         ]
        },
        {
         "text": [
          13.642356241234221,
          84.39691444600281,
          21.84992987377279,
          18.817671809256662,
          6.267882187938289,
          1.0575035063113605,
          0.09537166900420757,
          0.7251051893408135,
          0.4908835904628331,
          0.2538569424964937,
          0.30995792426367463,
          0.22720897615708274,
          2.1907433380084154,
          0.011220196353436185,
          0.30434782608695654,
          3.08835904628331,
          0.4319775596072931,
          0.2482468443197756,
          0.037868162692847124,
          0.07152875175315568,
          4.203366058906031,
          3.782608695652174,
          2.4384671196086942,
          2.6687053179228566,
          2.8196269952636777
         ],
         "textposition": "auto",
         "texttemplate": "%{text:.4f}",
         "type": "bar",
         "x": [
          "INN2",
          "BF",
          "PA",
          "AB",
          "HIT",
          "H2",
          "H3",
          "HR",
          "SB",
          "CS",
          "SH",
          "SF",
          "BB",
          "IB",
          "HP",
          "KK",
          "GD",
          "WP",
          "BK",
          "ERR",
          "R",
          "ER",
          "P_WHIP_RT",
          "P2_WHIP_RT",
          "CB_WHIP_RT"
         ],
         "y": [
          13.642356241234221,
          84.39691444600281,
          21.84992987377279,
          18.817671809256662,
          6.267882187938289,
          1.0575035063113605,
          0.09537166900420757,
          0.7251051893408135,
          0.4908835904628331,
          0.2538569424964937,
          0.30995792426367463,
          0.22720897615708274,
          2.1907433380084154,
          0.011220196353436185,
          0.30434782608695654,
          3.08835904628331,
          0.4319775596072931,
          0.2482468443197756,
          0.037868162692847124,
          0.07152875175315568,
          4.203366058906031,
          3.782608695652174,
          2.4384671196086942,
          2.6687053179228566,
          2.8196269952636777
         ]
        }
       ],
       "layout": {
        "template": {
         "data": {
          "bar": [
           {
            "error_x": {
             "color": "#2a3f5f"
            },
            "error_y": {
             "color": "#2a3f5f"
            },
            "marker": {
             "line": {
              "color": "#E5ECF6",
              "width": 0.5
             }
            },
            "type": "bar"
           }
          ],
          "barpolar": [
           {
            "marker": {
             "line": {
              "color": "#E5ECF6",
              "width": 0.5
             }
            },
            "type": "barpolar"
           }
          ],
          "carpet": [
           {
            "aaxis": {
             "endlinecolor": "#2a3f5f",
             "gridcolor": "white",
             "linecolor": "white",
             "minorgridcolor": "white",
             "startlinecolor": "#2a3f5f"
            },
            "baxis": {
             "endlinecolor": "#2a3f5f",
             "gridcolor": "white",
             "linecolor": "white",
             "minorgridcolor": "white",
             "startlinecolor": "#2a3f5f"
            },
            "type": "carpet"
           }
          ],
          "choropleth": [
           {
            "colorbar": {
             "outlinewidth": 0,
             "ticks": ""
            },
            "type": "choropleth"
           }
          ],
          "contour": [
           {
            "colorbar": {
             "outlinewidth": 0,
             "ticks": ""
            },
            "colorscale": [
             [
              0,
              "#0d0887"
             ],
             [
              0.1111111111111111,
              "#46039f"
             ],
             [
              0.2222222222222222,
              "#7201a8"
             ],
             [
              0.3333333333333333,
              "#9c179e"
             ],
             [
              0.4444444444444444,
              "#bd3786"
             ],
             [
              0.5555555555555556,
              "#d8576b"
             ],
             [
              0.6666666666666666,
              "#ed7953"
             ],
             [
              0.7777777777777778,
              "#fb9f3a"
             ],
             [
              0.8888888888888888,
              "#fdca26"
             ],
             [
              1,
              "#f0f921"
             ]
            ],
            "type": "contour"
           }
          ],
          "contourcarpet": [
           {
            "colorbar": {
             "outlinewidth": 0,
             "ticks": ""
            },
            "type": "contourcarpet"
           }
          ],
          "heatmap": [
           {
            "colorbar": {
             "outlinewidth": 0,
             "ticks": ""
            },
            "colorscale": [
             [
              0,
              "#0d0887"
             ],
             [
              0.1111111111111111,
              "#46039f"
             ],
             [
              0.2222222222222222,
              "#7201a8"
             ],
             [
              0.3333333333333333,
              "#9c179e"
             ],
             [
              0.4444444444444444,
              "#bd3786"
             ],
             [
              0.5555555555555556,
              "#d8576b"
             ],
             [
              0.6666666666666666,
              "#ed7953"
             ],
             [
              0.7777777777777778,
              "#fb9f3a"
             ],
             [
              0.8888888888888888,
              "#fdca26"
             ],
             [
              1,
              "#f0f921"
             ]
            ],
            "type": "heatmap"
           }
          ],
          "heatmapgl": [
           {
            "colorbar": {
             "outlinewidth": 0,
             "ticks": ""
            },
            "colorscale": [
             [
              0,
              "#0d0887"
             ],
             [
              0.1111111111111111,
              "#46039f"
             ],
             [
              0.2222222222222222,
              "#7201a8"
             ],
             [
              0.3333333333333333,
              "#9c179e"
             ],
             [
              0.4444444444444444,
              "#bd3786"
             ],
             [
              0.5555555555555556,
              "#d8576b"
             ],
             [
              0.6666666666666666,
              "#ed7953"
             ],
             [
              0.7777777777777778,
              "#fb9f3a"
             ],
             [
              0.8888888888888888,
              "#fdca26"
             ],
             [
              1,
              "#f0f921"
             ]
            ],
            "type": "heatmapgl"
           }
          ],
          "histogram": [
           {
            "marker": {
             "colorbar": {
              "outlinewidth": 0,
              "ticks": ""
             }
            },
            "type": "histogram"
           }
          ],
          "histogram2d": [
           {
            "colorbar": {
             "outlinewidth": 0,
             "ticks": ""
            },
            "colorscale": [
             [
              0,
              "#0d0887"
             ],
             [
              0.1111111111111111,
              "#46039f"
             ],
             [
              0.2222222222222222,
              "#7201a8"
             ],
             [
              0.3333333333333333,
              "#9c179e"
             ],
             [
              0.4444444444444444,
              "#bd3786"
             ],
             [
              0.5555555555555556,
              "#d8576b"
             ],
             [
              0.6666666666666666,
              "#ed7953"
             ],
             [
              0.7777777777777778,
              "#fb9f3a"
             ],
             [
              0.8888888888888888,
              "#fdca26"
             ],
             [
              1,
              "#f0f921"
             ]
            ],
            "type": "histogram2d"
           }
          ],
          "histogram2dcontour": [
           {
            "colorbar": {
             "outlinewidth": 0,
             "ticks": ""
            },
            "colorscale": [
             [
              0,
              "#0d0887"
             ],
             [
              0.1111111111111111,
              "#46039f"
             ],
             [
              0.2222222222222222,
              "#7201a8"
             ],
             [
              0.3333333333333333,
              "#9c179e"
             ],
             [
              0.4444444444444444,
              "#bd3786"
             ],
             [
              0.5555555555555556,
              "#d8576b"
             ],
             [
              0.6666666666666666,
              "#ed7953"
             ],
             [
              0.7777777777777778,
              "#fb9f3a"
             ],
             [
              0.8888888888888888,
              "#fdca26"
             ],
             [
              1,
              "#f0f921"
             ]
            ],
            "type": "histogram2dcontour"
           }
          ],
          "mesh3d": [
           {
            "colorbar": {
             "outlinewidth": 0,
             "ticks": ""
            },
            "type": "mesh3d"
           }
          ],
          "parcoords": [
           {
            "line": {
             "colorbar": {
              "outlinewidth": 0,
              "ticks": ""
             }
            },
            "type": "parcoords"
           }
          ],
          "pie": [
           {
            "automargin": true,
            "type": "pie"
           }
          ],
          "scatter": [
           {
            "marker": {
             "colorbar": {
              "outlinewidth": 0,
              "ticks": ""
             }
            },
            "type": "scatter"
           }
          ],
          "scatter3d": [
           {
            "line": {
             "colorbar": {
              "outlinewidth": 0,
              "ticks": ""
             }
            },
            "marker": {
             "colorbar": {
              "outlinewidth": 0,
              "ticks": ""
             }
            },
            "type": "scatter3d"
           }
          ],
          "scattercarpet": [
           {
            "marker": {
             "colorbar": {
              "outlinewidth": 0,
              "ticks": ""
             }
            },
            "type": "scattercarpet"
           }
          ],
          "scattergeo": [
           {
            "marker": {
             "colorbar": {
              "outlinewidth": 0,
              "ticks": ""
             }
            },
            "type": "scattergeo"
           }
          ],
          "scattergl": [
           {
            "marker": {
             "colorbar": {
              "outlinewidth": 0,
              "ticks": ""
             }
            },
            "type": "scattergl"
           }
          ],
          "scattermapbox": [
           {
            "marker": {
             "colorbar": {
              "outlinewidth": 0,
              "ticks": ""
             }
            },
            "type": "scattermapbox"
           }
          ],
          "scatterpolar": [
           {
            "marker": {
             "colorbar": {
              "outlinewidth": 0,
              "ticks": ""
             }
            },
            "type": "scatterpolar"
           }
          ],
          "scatterpolargl": [
           {
            "marker": {
             "colorbar": {
              "outlinewidth": 0,
              "ticks": ""
             }
            },
            "type": "scatterpolargl"
           }
          ],
          "scatterternary": [
           {
            "marker": {
             "colorbar": {
              "outlinewidth": 0,
              "ticks": ""
             }
            },
            "type": "scatterternary"
           }
          ],
          "surface": [
           {
            "colorbar": {
             "outlinewidth": 0,
             "ticks": ""
            },
            "colorscale": [
             [
              0,
              "#0d0887"
             ],
             [
              0.1111111111111111,
              "#46039f"
             ],
             [
              0.2222222222222222,
              "#7201a8"
             ],
             [
              0.3333333333333333,
              "#9c179e"
             ],
             [
              0.4444444444444444,
              "#bd3786"
             ],
             [
              0.5555555555555556,
              "#d8576b"
             ],
             [
              0.6666666666666666,
              "#ed7953"
             ],
             [
              0.7777777777777778,
              "#fb9f3a"
             ],
             [
              0.8888888888888888,
              "#fdca26"
             ],
             [
              1,
              "#f0f921"
             ]
            ],
            "type": "surface"
           }
          ],
          "table": [
           {
            "cells": {
             "fill": {
              "color": "#EBF0F8"
             },
             "line": {
              "color": "white"
             }
            },
            "header": {
             "fill": {
              "color": "#C8D4E3"
             },
             "line": {
              "color": "white"
             }
            },
            "type": "table"
           }
          ]
         },
         "layout": {
          "annotationdefaults": {
           "arrowcolor": "#2a3f5f",
           "arrowhead": 0,
           "arrowwidth": 1
          },
          "coloraxis": {
           "colorbar": {
            "outlinewidth": 0,
            "ticks": ""
           }
          },
          "colorscale": {
           "diverging": [
            [
             0,
             "#8e0152"
            ],
            [
             0.1,
             "#c51b7d"
            ],
            [
             0.2,
             "#de77ae"
            ],
            [
             0.3,
             "#f1b6da"
            ],
            [
             0.4,
             "#fde0ef"
            ],
            [
             0.5,
             "#f7f7f7"
            ],
            [
             0.6,
             "#e6f5d0"
            ],
            [
             0.7,
             "#b8e186"
            ],
            [
             0.8,
             "#7fbc41"
            ],
            [
             0.9,
             "#4d9221"
            ],
            [
             1,
             "#276419"
            ]
           ],
           "sequential": [
            [
             0,
             "#0d0887"
            ],
            [
             0.1111111111111111,
             "#46039f"
            ],
            [
             0.2222222222222222,
             "#7201a8"
            ],
            [
             0.3333333333333333,
             "#9c179e"
            ],
            [
             0.4444444444444444,
             "#bd3786"
            ],
            [
             0.5555555555555556,
             "#d8576b"
            ],
            [
             0.6666666666666666,
             "#ed7953"
            ],
            [
             0.7777777777777778,
             "#fb9f3a"
            ],
            [
             0.8888888888888888,
             "#fdca26"
            ],
            [
             1,
             "#f0f921"
            ]
           ],
           "sequentialminus": [
            [
             0,
             "#0d0887"
            ],
            [
             0.1111111111111111,
             "#46039f"
            ],
            [
             0.2222222222222222,
             "#7201a8"
            ],
            [
             0.3333333333333333,
             "#9c179e"
            ],
            [
             0.4444444444444444,
             "#bd3786"
            ],
            [
             0.5555555555555556,
             "#d8576b"
            ],
            [
             0.6666666666666666,
             "#ed7953"
            ],
            [
             0.7777777777777778,
             "#fb9f3a"
            ],
            [
             0.8888888888888888,
             "#fdca26"
            ],
            [
             1,
             "#f0f921"
            ]
           ]
          },
          "colorway": [
           "#636efa",
           "#EF553B",
           "#00cc96",
           "#ab63fa",
           "#FFA15A",
           "#19d3f3",
           "#FF6692",
           "#B6E880",
           "#FF97FF",
           "#FECB52"
          ],
          "font": {
           "color": "#2a3f5f"
          },
          "geo": {
           "bgcolor": "white",
           "lakecolor": "white",
           "landcolor": "#E5ECF6",
           "showlakes": true,
           "showland": true,
           "subunitcolor": "white"
          },
          "hoverlabel": {
           "align": "left"
          },
          "hovermode": "closest",
          "mapbox": {
           "style": "light"
          },
          "paper_bgcolor": "white",
          "plot_bgcolor": "#E5ECF6",
          "polar": {
           "angularaxis": {
            "gridcolor": "white",
            "linecolor": "white",
            "ticks": ""
           },
           "bgcolor": "#E5ECF6",
           "radialaxis": {
            "gridcolor": "white",
            "linecolor": "white",
            "ticks": ""
           }
          },
          "scene": {
           "xaxis": {
            "backgroundcolor": "#E5ECF6",
            "gridcolor": "white",
            "gridwidth": 2,
            "linecolor": "white",
            "showbackground": true,
            "ticks": "",
            "zerolinecolor": "white"
           },
           "yaxis": {
            "backgroundcolor": "#E5ECF6",
            "gridcolor": "white",
            "gridwidth": 2,
            "linecolor": "white",
            "showbackground": true,
            "ticks": "",
            "zerolinecolor": "white"
           },
           "zaxis": {
            "backgroundcolor": "#E5ECF6",
            "gridcolor": "white",
            "gridwidth": 2,
            "linecolor": "white",
            "showbackground": true,
            "ticks": "",
            "zerolinecolor": "white"
           }
          },
          "shapedefaults": {
           "line": {
            "color": "#2a3f5f"
           }
          },
          "ternary": {
           "aaxis": {
            "gridcolor": "white",
            "linecolor": "white",
            "ticks": ""
           },
           "baxis": {
            "gridcolor": "white",
            "linecolor": "white",
            "ticks": ""
           },
           "bgcolor": "#E5ECF6",
           "caxis": {
            "gridcolor": "white",
            "linecolor": "white",
            "ticks": ""
           }
          },
          "title": {
           "x": 0.05
          },
          "xaxis": {
           "automargin": true,
           "gridcolor": "white",
           "linecolor": "white",
           "ticks": "",
           "title": {
            "standoff": 15
           },
           "zerolinecolor": "white",
           "zerolinewidth": 2
          },
          "yaxis": {
           "automargin": true,
           "gridcolor": "white",
           "linecolor": "white",
           "ticks": "",
           "title": {
            "standoff": 15
           },
           "zerolinecolor": "white",
           "zerolinewidth": 2
          }
         }
        },
        "title": {
         "font": {
          "size": 15
         },
         "text": "<b>start pitcher compare to winner and loser </b>",
         "x": 0.5,
         "y": 0.9
        },
        "xaxis": {
         "dtick": "M1",
         "showticklabels": true,
         "tickfont": {
          "size": 7
         },
         "title": {
          "text": "status"
         }
        }
       }
      },
      "text/html": [
       "<div>\n",
       "        \n",
       "        \n",
       "            <div id=\"715c5a3f-aa29-4fdb-a4e4-0e312ca70381\" class=\"plotly-graph-div\" style=\"height:525px; width:100%;\"></div>\n",
       "            <script type=\"text/javascript\">\n",
       "                require([\"plotly\"], function(Plotly) {\n",
       "                    window.PLOTLYENV=window.PLOTLYENV || {};\n",
       "                    \n",
       "                if (document.getElementById(\"715c5a3f-aa29-4fdb-a4e4-0e312ca70381\")) {\n",
       "                    Plotly.newPlot(\n",
       "                        '715c5a3f-aa29-4fdb-a4e4-0e312ca70381',\n",
       "                        [{\"text\": [16.936886395511923, 93.13183730715288, 23.964936886395513, 21.374474053295934, 5.542776998597476, 0.8821879382889201, 0.0785413744740533, 0.5049088359046283, 0.32538569424964936, 0.2370266479663394, 0.18653576437587657, 0.15287517531556802, 1.9509116409537166, 0.0070126227208976155, 0.29873772791023845, 4.166900420757363, 0.5553997194950911, 0.20476858345021037, 0.012622720897615708, 0.04908835904628331, 2.3856942496493687, 2.214586255259467, 1.405380442375877, 1.3227142472258056, 1.8643379294852744], \"textposition\": \"auto\", \"texttemplate\": \"%{text:.4f}\", \"type\": \"bar\", \"x\": [\"INN2\", \"BF\", \"PA\", \"AB\", \"HIT\", \"H2\", \"H3\", \"HR\", \"SB\", \"CS\", \"SH\", \"SF\", \"BB\", \"IB\", \"HP\", \"KK\", \"GD\", \"WP\", \"BK\", \"ERR\", \"R\", \"ER\", \"P_WHIP_RT\", \"P2_WHIP_RT\", \"CB_WHIP_RT\"], \"y\": [16.936886395511923, 93.13183730715288, 23.964936886395513, 21.374474053295934, 5.542776998597476, 0.8821879382889201, 0.0785413744740533, 0.5049088359046283, 0.32538569424964936, 0.2370266479663394, 0.18653576437587657, 0.15287517531556802, 1.9509116409537166, 0.0070126227208976155, 0.29873772791023845, 4.166900420757363, 0.5553997194950911, 0.20476858345021037, 0.012622720897615708, 0.04908835904628331, 2.3856942496493687, 2.214586255259467, 1.405380442375877, 1.3227142472258056, 1.8643379294852744]}, {\"text\": [13.642356241234221, 84.39691444600281, 21.84992987377279, 18.817671809256662, 6.267882187938289, 1.0575035063113605, 0.09537166900420757, 0.7251051893408135, 0.4908835904628331, 0.2538569424964937, 0.30995792426367463, 0.22720897615708274, 2.1907433380084154, 0.011220196353436185, 0.30434782608695654, 3.08835904628331, 0.4319775596072931, 0.2482468443197756, 0.037868162692847124, 0.07152875175315568, 4.203366058906031, 3.782608695652174, 2.4384671196086942, 2.6687053179228566, 2.8196269952636777], \"textposition\": \"auto\", \"texttemplate\": \"%{text:.4f}\", \"type\": \"bar\", \"x\": [\"INN2\", \"BF\", \"PA\", \"AB\", \"HIT\", \"H2\", \"H3\", \"HR\", \"SB\", \"CS\", \"SH\", \"SF\", \"BB\", \"IB\", \"HP\", \"KK\", \"GD\", \"WP\", \"BK\", \"ERR\", \"R\", \"ER\", \"P_WHIP_RT\", \"P2_WHIP_RT\", \"CB_WHIP_RT\"], \"y\": [13.642356241234221, 84.39691444600281, 21.84992987377279, 18.817671809256662, 6.267882187938289, 1.0575035063113605, 0.09537166900420757, 0.7251051893408135, 0.4908835904628331, 0.2538569424964937, 0.30995792426367463, 0.22720897615708274, 2.1907433380084154, 0.011220196353436185, 0.30434782608695654, 3.08835904628331, 0.4319775596072931, 0.2482468443197756, 0.037868162692847124, 0.07152875175315568, 4.203366058906031, 3.782608695652174, 2.4384671196086942, 2.6687053179228566, 2.8196269952636777]}],\n",
       "                        {\"template\": {\"data\": {\"bar\": [{\"error_x\": {\"color\": \"#2a3f5f\"}, \"error_y\": {\"color\": \"#2a3f5f\"}, \"marker\": {\"line\": {\"color\": \"#E5ECF6\", \"width\": 0.5}}, \"type\": \"bar\"}], \"barpolar\": [{\"marker\": {\"line\": {\"color\": \"#E5ECF6\", \"width\": 0.5}}, \"type\": \"barpolar\"}], \"carpet\": [{\"aaxis\": {\"endlinecolor\": \"#2a3f5f\", \"gridcolor\": \"white\", \"linecolor\": \"white\", \"minorgridcolor\": \"white\", \"startlinecolor\": \"#2a3f5f\"}, \"baxis\": {\"endlinecolor\": \"#2a3f5f\", \"gridcolor\": \"white\", \"linecolor\": \"white\", \"minorgridcolor\": \"white\", \"startlinecolor\": \"#2a3f5f\"}, \"type\": \"carpet\"}], \"choropleth\": [{\"colorbar\": {\"outlinewidth\": 0, \"ticks\": \"\"}, \"type\": \"choropleth\"}], \"contour\": [{\"colorbar\": {\"outlinewidth\": 0, \"ticks\": \"\"}, \"colorscale\": [[0.0, \"#0d0887\"], [0.1111111111111111, \"#46039f\"], [0.2222222222222222, \"#7201a8\"], [0.3333333333333333, \"#9c179e\"], [0.4444444444444444, \"#bd3786\"], [0.5555555555555556, \"#d8576b\"], [0.6666666666666666, \"#ed7953\"], [0.7777777777777778, \"#fb9f3a\"], [0.8888888888888888, \"#fdca26\"], [1.0, \"#f0f921\"]], \"type\": \"contour\"}], \"contourcarpet\": [{\"colorbar\": {\"outlinewidth\": 0, \"ticks\": \"\"}, \"type\": \"contourcarpet\"}], \"heatmap\": [{\"colorbar\": {\"outlinewidth\": 0, \"ticks\": \"\"}, \"colorscale\": [[0.0, \"#0d0887\"], [0.1111111111111111, \"#46039f\"], [0.2222222222222222, \"#7201a8\"], [0.3333333333333333, \"#9c179e\"], [0.4444444444444444, \"#bd3786\"], [0.5555555555555556, \"#d8576b\"], [0.6666666666666666, \"#ed7953\"], [0.7777777777777778, \"#fb9f3a\"], [0.8888888888888888, \"#fdca26\"], [1.0, \"#f0f921\"]], \"type\": \"heatmap\"}], \"heatmapgl\": [{\"colorbar\": {\"outlinewidth\": 0, \"ticks\": \"\"}, \"colorscale\": [[0.0, \"#0d0887\"], [0.1111111111111111, \"#46039f\"], [0.2222222222222222, \"#7201a8\"], [0.3333333333333333, \"#9c179e\"], [0.4444444444444444, \"#bd3786\"], [0.5555555555555556, \"#d8576b\"], [0.6666666666666666, \"#ed7953\"], [0.7777777777777778, \"#fb9f3a\"], [0.8888888888888888, \"#fdca26\"], [1.0, \"#f0f921\"]], \"type\": \"heatmapgl\"}], \"histogram\": [{\"marker\": {\"colorbar\": {\"outlinewidth\": 0, \"ticks\": \"\"}}, \"type\": \"histogram\"}], \"histogram2d\": [{\"colorbar\": {\"outlinewidth\": 0, \"ticks\": \"\"}, \"colorscale\": [[0.0, \"#0d0887\"], [0.1111111111111111, \"#46039f\"], [0.2222222222222222, \"#7201a8\"], [0.3333333333333333, \"#9c179e\"], [0.4444444444444444, \"#bd3786\"], [0.5555555555555556, \"#d8576b\"], [0.6666666666666666, \"#ed7953\"], [0.7777777777777778, \"#fb9f3a\"], [0.8888888888888888, \"#fdca26\"], [1.0, \"#f0f921\"]], \"type\": \"histogram2d\"}], \"histogram2dcontour\": [{\"colorbar\": {\"outlinewidth\": 0, \"ticks\": \"\"}, \"colorscale\": [[0.0, \"#0d0887\"], [0.1111111111111111, \"#46039f\"], [0.2222222222222222, \"#7201a8\"], [0.3333333333333333, \"#9c179e\"], [0.4444444444444444, \"#bd3786\"], [0.5555555555555556, \"#d8576b\"], [0.6666666666666666, \"#ed7953\"], [0.7777777777777778, \"#fb9f3a\"], [0.8888888888888888, \"#fdca26\"], [1.0, \"#f0f921\"]], \"type\": \"histogram2dcontour\"}], \"mesh3d\": [{\"colorbar\": {\"outlinewidth\": 0, \"ticks\": \"\"}, \"type\": \"mesh3d\"}], \"parcoords\": [{\"line\": {\"colorbar\": {\"outlinewidth\": 0, \"ticks\": \"\"}}, \"type\": \"parcoords\"}], \"pie\": [{\"automargin\": true, \"type\": \"pie\"}], \"scatter\": [{\"marker\": {\"colorbar\": {\"outlinewidth\": 0, \"ticks\": \"\"}}, \"type\": \"scatter\"}], \"scatter3d\": [{\"line\": {\"colorbar\": {\"outlinewidth\": 0, \"ticks\": \"\"}}, \"marker\": {\"colorbar\": {\"outlinewidth\": 0, \"ticks\": \"\"}}, \"type\": \"scatter3d\"}], \"scattercarpet\": [{\"marker\": {\"colorbar\": {\"outlinewidth\": 0, \"ticks\": \"\"}}, \"type\": \"scattercarpet\"}], \"scattergeo\": [{\"marker\": {\"colorbar\": {\"outlinewidth\": 0, \"ticks\": \"\"}}, \"type\": \"scattergeo\"}], \"scattergl\": [{\"marker\": {\"colorbar\": {\"outlinewidth\": 0, \"ticks\": \"\"}}, \"type\": \"scattergl\"}], \"scattermapbox\": [{\"marker\": {\"colorbar\": {\"outlinewidth\": 0, \"ticks\": \"\"}}, \"type\": \"scattermapbox\"}], \"scatterpolar\": [{\"marker\": {\"colorbar\": {\"outlinewidth\": 0, \"ticks\": \"\"}}, \"type\": \"scatterpolar\"}], \"scatterpolargl\": [{\"marker\": {\"colorbar\": {\"outlinewidth\": 0, \"ticks\": \"\"}}, \"type\": \"scatterpolargl\"}], \"scatterternary\": [{\"marker\": {\"colorbar\": {\"outlinewidth\": 0, \"ticks\": \"\"}}, \"type\": \"scatterternary\"}], \"surface\": [{\"colorbar\": {\"outlinewidth\": 0, \"ticks\": \"\"}, \"colorscale\": [[0.0, \"#0d0887\"], [0.1111111111111111, \"#46039f\"], [0.2222222222222222, \"#7201a8\"], [0.3333333333333333, \"#9c179e\"], [0.4444444444444444, \"#bd3786\"], [0.5555555555555556, \"#d8576b\"], [0.6666666666666666, \"#ed7953\"], [0.7777777777777778, \"#fb9f3a\"], [0.8888888888888888, \"#fdca26\"], [1.0, \"#f0f921\"]], \"type\": \"surface\"}], \"table\": [{\"cells\": {\"fill\": {\"color\": \"#EBF0F8\"}, \"line\": {\"color\": \"white\"}}, \"header\": {\"fill\": {\"color\": \"#C8D4E3\"}, \"line\": {\"color\": \"white\"}}, \"type\": \"table\"}]}, \"layout\": {\"annotationdefaults\": {\"arrowcolor\": \"#2a3f5f\", \"arrowhead\": 0, \"arrowwidth\": 1}, \"coloraxis\": {\"colorbar\": {\"outlinewidth\": 0, \"ticks\": \"\"}}, \"colorscale\": {\"diverging\": [[0, \"#8e0152\"], [0.1, \"#c51b7d\"], [0.2, \"#de77ae\"], [0.3, \"#f1b6da\"], [0.4, \"#fde0ef\"], [0.5, \"#f7f7f7\"], [0.6, \"#e6f5d0\"], [0.7, \"#b8e186\"], [0.8, \"#7fbc41\"], [0.9, \"#4d9221\"], [1, \"#276419\"]], \"sequential\": [[0.0, \"#0d0887\"], [0.1111111111111111, \"#46039f\"], [0.2222222222222222, \"#7201a8\"], [0.3333333333333333, \"#9c179e\"], [0.4444444444444444, \"#bd3786\"], [0.5555555555555556, \"#d8576b\"], [0.6666666666666666, \"#ed7953\"], [0.7777777777777778, \"#fb9f3a\"], [0.8888888888888888, \"#fdca26\"], [1.0, \"#f0f921\"]], \"sequentialminus\": [[0.0, \"#0d0887\"], [0.1111111111111111, \"#46039f\"], [0.2222222222222222, \"#7201a8\"], [0.3333333333333333, \"#9c179e\"], [0.4444444444444444, \"#bd3786\"], [0.5555555555555556, \"#d8576b\"], [0.6666666666666666, \"#ed7953\"], [0.7777777777777778, \"#fb9f3a\"], [0.8888888888888888, \"#fdca26\"], [1.0, \"#f0f921\"]]}, \"colorway\": [\"#636efa\", \"#EF553B\", \"#00cc96\", \"#ab63fa\", \"#FFA15A\", \"#19d3f3\", \"#FF6692\", \"#B6E880\", \"#FF97FF\", \"#FECB52\"], \"font\": {\"color\": \"#2a3f5f\"}, \"geo\": {\"bgcolor\": \"white\", \"lakecolor\": \"white\", \"landcolor\": \"#E5ECF6\", \"showlakes\": true, \"showland\": true, \"subunitcolor\": \"white\"}, \"hoverlabel\": {\"align\": \"left\"}, \"hovermode\": \"closest\", \"mapbox\": {\"style\": \"light\"}, \"paper_bgcolor\": \"white\", \"plot_bgcolor\": \"#E5ECF6\", \"polar\": {\"angularaxis\": {\"gridcolor\": \"white\", \"linecolor\": \"white\", \"ticks\": \"\"}, \"bgcolor\": \"#E5ECF6\", \"radialaxis\": {\"gridcolor\": \"white\", \"linecolor\": \"white\", \"ticks\": \"\"}}, \"scene\": {\"xaxis\": {\"backgroundcolor\": \"#E5ECF6\", \"gridcolor\": \"white\", \"gridwidth\": 2, \"linecolor\": \"white\", \"showbackground\": true, \"ticks\": \"\", \"zerolinecolor\": \"white\"}, \"yaxis\": {\"backgroundcolor\": \"#E5ECF6\", \"gridcolor\": \"white\", \"gridwidth\": 2, \"linecolor\": \"white\", \"showbackground\": true, \"ticks\": \"\", \"zerolinecolor\": \"white\"}, \"zaxis\": {\"backgroundcolor\": \"#E5ECF6\", \"gridcolor\": \"white\", \"gridwidth\": 2, \"linecolor\": \"white\", \"showbackground\": true, \"ticks\": \"\", \"zerolinecolor\": \"white\"}}, \"shapedefaults\": {\"line\": {\"color\": \"#2a3f5f\"}}, \"ternary\": {\"aaxis\": {\"gridcolor\": \"white\", \"linecolor\": \"white\", \"ticks\": \"\"}, \"baxis\": {\"gridcolor\": \"white\", \"linecolor\": \"white\", \"ticks\": \"\"}, \"bgcolor\": \"#E5ECF6\", \"caxis\": {\"gridcolor\": \"white\", \"linecolor\": \"white\", \"ticks\": \"\"}}, \"title\": {\"x\": 0.05}, \"xaxis\": {\"automargin\": true, \"gridcolor\": \"white\", \"linecolor\": \"white\", \"ticks\": \"\", \"title\": {\"standoff\": 15}, \"zerolinecolor\": \"white\", \"zerolinewidth\": 2}, \"yaxis\": {\"automargin\": true, \"gridcolor\": \"white\", \"linecolor\": \"white\", \"ticks\": \"\", \"title\": {\"standoff\": 15}, \"zerolinecolor\": \"white\", \"zerolinewidth\": 2}}}, \"title\": {\"font\": {\"size\": 15}, \"text\": \"<b>start pitcher compare to winner and loser </b>\", \"x\": 0.5, \"y\": 0.9}, \"xaxis\": {\"dtick\": \"M1\", \"showticklabels\": true, \"tickfont\": {\"size\": 7}, \"title\": {\"text\": \"status\"}}},\n",
       "                        {\"responsive\": true}\n",
       "                    ).then(function(){\n",
       "                            \n",
       "var gd = document.getElementById('715c5a3f-aa29-4fdb-a4e4-0e312ca70381');\n",
       "var x = new MutationObserver(function (mutations, observer) {{\n",
       "        var display = window.getComputedStyle(gd).display;\n",
       "        if (!display || display === 'none') {{\n",
       "            console.log([gd, 'removed!']);\n",
       "            Plotly.purge(gd);\n",
       "            observer.disconnect();\n",
       "        }}\n",
       "}});\n",
       "\n",
       "// Listen for the removal of the full notebook cells\n",
       "var notebookContainer = gd.closest('#notebook-container');\n",
       "if (notebookContainer) {{\n",
       "    x.observe(notebookContainer, {childList: true});\n",
       "}}\n",
       "\n",
       "// Listen for the clearing of the current output cell\n",
       "var outputEl = gd.closest('.output');\n",
       "if (outputEl) {{\n",
       "    x.observe(outputEl, {childList: true});\n",
       "}}\n",
       "\n",
       "                        })\n",
       "                };\n",
       "                });\n",
       "            </script>\n",
       "        </div>"
      ]
     },
     "metadata": {},
     "output_type": "display_data"
    }
   ],
   "source": [
    "import plotly.graph_objects as go\n",
    "fig = go.Figure()\n",
    "fig.add_trace(\n",
    "    go.Bar(\n",
    "        x=w_avg.index, \n",
    "        y=w_avg, \n",
    "        text=w_avg, \n",
    "        textposition='auto', \n",
    "        texttemplate='%{text:.4f}'\n",
    "    )\n",
    ")\n",
    "fig.add_trace(\n",
    "    go.Bar(\n",
    "        x=l_avg.index, \n",
    "        y=l_avg, \n",
    "        text=l_avg, \n",
    "        textposition='auto', \n",
    "        texttemplate='%{text:.4f}'\n",
    "    )\n",
    ")\n",
    "\n",
    "fig.update_layout(\n",
    "    {\n",
    "        \"title\": {\n",
    "            \"text\": \"<b>start pitcher compare to winner and loser </b>\",\n",
    "            \"x\": 0.5,\n",
    "            \"y\": 0.9,\n",
    "            \"font\": {\n",
    "                \"size\": 15\n",
    "            }\n",
    "        },\n",
    "        \"xaxis\": {\n",
    "            \"title\": \"status\",\n",
    "            \"showticklabels\":True,\n",
    "            \"dtick\": \"M1\",\n",
    "            \"tickfont\": {\n",
    "                \"size\": 7                \n",
    "            }\n",
    "        }\n",
    "    }\n",
    ")\n",
    "\n",
    "fig.show()"
   ]
  },
  {
   "cell_type": "code",
   "execution_count": null,
   "metadata": {},
   "outputs": [],
   "source": []
  }
 ],
 "metadata": {
  "kernelspec": {
   "display_name": "Python 3",
   "language": "python",
   "name": "python3"
  },
  "language_info": {
   "codemirror_mode": {
    "name": "ipython",
    "version": 3
   },
   "file_extension": ".py",
   "mimetype": "text/x-python",
   "name": "python",
   "nbconvert_exporter": "python",
   "pygments_lexer": "ipython3",
   "version": "3.7.3"
  }
 },
 "nbformat": 4,
 "nbformat_minor": 2
}
