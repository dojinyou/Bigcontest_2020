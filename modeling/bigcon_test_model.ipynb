{
  "nbformat": 4,
  "nbformat_minor": 0,
  "metadata": {
    "colab": {
      "name": "bigcon_test_model.ipynb",
      "provenance": [],
      "collapsed_sections": []
    },
    "kernelspec": {
      "name": "python3",
      "display_name": "Python 3"
    },
    "accelerator": "GPU"
  },
  "cells": [
    {
      "cell_type": "code",
      "metadata": {
        "id": "SIAjkzdYZN_x",
        "colab_type": "code",
        "colab": {}
      },
      "source": [
        "from datetime import datetime #날짜와 시간을 쉽게 조작할 수 있게 하는 클래스 제공\n",
        "import pandas as pd\n",
        "import numpy as np\n",
        "import matplotlib.pyplot as plt\n",
        "%matplotlib inline"
      ],
      "execution_count": null,
      "outputs": []
    },
    {
      "cell_type": "code",
      "metadata": {
        "id": "OU0-TL44kp_6",
        "colab_type": "code",
        "colab": {
          "base_uri": "https://localhost:8080/",
          "height": 125
        },
        "outputId": "613a8b8e-b349-4457-809d-263d83250adb"
      },
      "source": [
        "from google.colab import auth\n",
        "auth.authenticate_user()\n",
        "\n",
        "from google.colab import drive\n",
        "drive.mount('/content/drive', force_remount=False)"
      ],
      "execution_count": null,
      "outputs": [
        {
          "output_type": "stream",
          "text": [
            "Go to this URL in a browser: https://accounts.google.com/o/oauth2/auth?client_id=947318989803-6bn6qk8qdgf4n4g3pfee6491hc0brc4i.apps.googleusercontent.com&redirect_uri=urn%3aietf%3awg%3aoauth%3a2.0%3aoob&scope=email%20https%3a%2f%2fwww.googleapis.com%2fauth%2fdocs.test%20https%3a%2f%2fwww.googleapis.com%2fauth%2fdrive%20https%3a%2f%2fwww.googleapis.com%2fauth%2fdrive.photos.readonly%20https%3a%2f%2fwww.googleapis.com%2fauth%2fpeopleapi.readonly&response_type=code\n",
            "\n",
            "Enter your authorization code:\n",
            "··········\n",
            "Mounted at /content/drive\n"
          ],
          "name": "stdout"
        }
      ]
    },
    {
      "cell_type": "code",
      "metadata": {
        "id": "qVSC9BG4eG6O",
        "colab_type": "code",
        "colab": {
          "base_uri": "https://localhost:8080/",
          "height": 34
        },
        "outputId": "10b2974f-53de-4493-c643-4774f34bbcef"
      },
      "source": [
        "import os\n",
        "from pathlib import Path\n",
        "\n",
        "folder = \"bigcon2020/data\"\n",
        "base_path = Path(\"/content/drive/My Drive/\")\n",
        "project_path = base_path / folder\n",
        "os.chdir(project_path)\n",
        "for x in list(project_path.glob(\"*\")):\n",
        "    if x.is_dir():\n",
        "        dir_name = str(x.relative_to(project_path))\n",
        "        os.rename(dir_name, dir_name.split(\" \", 1)[0])\n",
        "print(f\"현재 디렉토리 위치: {os.getcwd()}\")"
      ],
      "execution_count": null,
      "outputs": [
        {
          "output_type": "stream",
          "text": [
            "현재 디렉토리 위치: /content/drive/My Drive/bigcon2020/data\n"
          ],
          "name": "stdout"
        }
      ]
    },
    {
      "cell_type": "code",
      "metadata": {
        "id": "UZVKsxOzkbK7",
        "colab_type": "code",
        "colab": {
          "base_uri": "https://localhost:8080/",
          "height": 125
        },
        "outputId": "8662f41d-66be-491b-c4cf-20ec4a72451d"
      },
      "source": [
        "import tensorflow as tf\n",
        "from tensorflow.keras import layers\n",
        "\n",
        "print('tensorflow version: {}'.format(tf.__version__))\n",
        "print('GPU 사용 가능 여부: {}'.format(tf.test.is_gpu_available()))"
      ],
      "execution_count": null,
      "outputs": [
        {
          "output_type": "stream",
          "text": [
            "tensorflow version: 2.3.0\n",
            "WARNING:tensorflow:From <ipython-input-6-850c82209df6>:5: is_gpu_available (from tensorflow.python.framework.test_util) is deprecated and will be removed in a future version.\n",
            "Instructions for updating:\n",
            "Use `tf.config.list_physical_devices('GPU')` instead.\n",
            "GPU 사용 가능 여부: True\n"
          ],
          "name": "stdout"
        }
      ]
    },
    {
      "cell_type": "code",
      "metadata": {
        "id": "11Kfxs_AlQe6",
        "colab_type": "code",
        "colab": {}
      },
      "source": [
        "batch_size = 9\n",
        "max_epochs = 30\n",
        "learning_rate = 3e-5\n",
        "hidden_sizes = [100, 100]"
      ],
      "execution_count": null,
      "outputs": []
    },
    {
      "cell_type": "code",
      "metadata": {
        "id": "z_KetOnSmDBo",
        "colab_type": "code",
        "colab": {}
      },
      "source": [
        "def preprocess():\n",
        "  # 1차_최종_공통 : 시즌, 홈어웨이, 경기간간격, 득점, 실점, 승패\n",
        "  general = pd.read_csv('1차_최종_공통.csv')\n",
        "  general = general[general['팀코드']=='NC']\n",
        "  general = general[['게임키', '경기간간격','득점','실점','결과']]\n",
        "  general['시즌'] = general['게임키'].apply(lambda x:int(x[:4]))\n",
        "  general['홈어웨이'] = general['게임키'].apply(lambda x:0 if x[-3:-1]=='NC' else 1)\n",
        "  general=general.set_index('게임키')\n",
        "  # 팀타자 : 기준팀 wRC\n",
        "  hitter = pd.read_csv('./1차_최종_팀타자.csv')\n",
        "  hitter_vs = hitter[hitter['상대팀코드']=='NC']\n",
        "  hitter = hitter[hitter['팀코드']=='NC']\n",
        "  hitter = hitter[['게임키', 'wRC']]\n",
        "  hitter_vs = hitter_vs[['게임키', 'wRC']]\n",
        "  hitter=hitter.set_index('게임키')\n",
        "  hitter_vs=hitter_vs.set_index('게임키')\n",
        "  hitter_vs=hitter_vs.add_prefix('vs_')\n",
        "  # 팀투수 : 기준팀, 상대팀 RA/9, whip\n",
        "  pitcher = pd.read_csv('./1차_최종_팀투수.csv')\n",
        "  pitcher_vs = pitcher[pitcher['상대팀코드']=='NC']\n",
        "  pitcher = pitcher[pitcher['팀코드']=='NC']\n",
        "  pitcher = pitcher[['게임키', 'RA/9','whip']]\n",
        "  pitcher_vs = pitcher_vs[['게임키', 'RA/9','whip']]\n",
        "  pitcher = pitcher.set_index('게임키')\n",
        "  pitcher_vs = pitcher_vs.set_index('게임키')\n",
        "  pitcher_vs = pitcher_vs.add_prefix('vs_')\n",
        "  df = pd.concat([general, hitter,hitter_vs, pitcher,pitcher_vs], axis=1)\n",
        "  df= df[['시즌','경기간간격','홈어웨이','wRC','vs_wRC','RA/9','whip','vs_RA/9','vs_whip','득점','실점','결과']]\n",
        "  df['결과'] = df['결과'].apply(lambda x : 0 if x =='W' else 1)\n",
        "  return df"
      ],
      "execution_count": null,
      "outputs": []
    },
    {
      "cell_type": "code",
      "metadata": {
        "id": "zCovnOmGt_tp",
        "colab_type": "code",
        "colab": {
          "base_uri": "https://localhost:8080/",
          "height": 186
        },
        "outputId": "429aa39d-250b-46a3-de35-bce3e7554f80"
      },
      "source": [
        "df = preprocess()\n",
        "df.head()"
      ],
      "execution_count": null,
      "outputs": [
        {
          "output_type": "error",
          "ename": "NameError",
          "evalue": "ignored",
          "traceback": [
            "\u001b[0;31m---------------------------------------------------------------------------\u001b[0m",
            "\u001b[0;31mNameError\u001b[0m                                 Traceback (most recent call last)",
            "\u001b[0;32m<ipython-input-1-ad0daff76783>\u001b[0m in \u001b[0;36m<module>\u001b[0;34m()\u001b[0m\n\u001b[0;32m----> 1\u001b[0;31m \u001b[0mdf\u001b[0m \u001b[0;34m=\u001b[0m \u001b[0mpreprocess\u001b[0m\u001b[0;34m(\u001b[0m\u001b[0;34m)\u001b[0m\u001b[0;34m\u001b[0m\u001b[0;34m\u001b[0m\u001b[0m\n\u001b[0m\u001b[1;32m      2\u001b[0m \u001b[0mdf\u001b[0m\u001b[0;34m.\u001b[0m\u001b[0mhead\u001b[0m\u001b[0;34m(\u001b[0m\u001b[0;34m)\u001b[0m\u001b[0;34m\u001b[0m\u001b[0;34m\u001b[0m\u001b[0m\n",
            "\u001b[0;31mNameError\u001b[0m: name 'preprocess' is not defined"
          ]
        }
      ]
    },
    {
      "cell_type": "code",
      "metadata": {
        "id": "j1ItDAm2LEXL",
        "colab_type": "code",
        "colab": {
          "base_uri": "https://localhost:8080/",
          "height": 351
        },
        "outputId": "c7668be7-8276-4643-d727-61d4b9afee59"
      },
      "source": [
        "df.info()"
      ],
      "execution_count": null,
      "outputs": [
        {
          "output_type": "stream",
          "text": [
            "<class 'pandas.core.frame.DataFrame'>\n",
            "Index: 639 entries, 20160401HTNC0 to 20200719KTNC0\n",
            "Data columns (total 12 columns):\n",
            " #   Column   Non-Null Count  Dtype  \n",
            "---  ------   --------------  -----  \n",
            " 0   시즌       639 non-null    int64  \n",
            " 1   경기간간격    639 non-null    float64\n",
            " 2   홈어웨이     639 non-null    int64  \n",
            " 3   wRC      639 non-null    float64\n",
            " 4   vs_wRC   639 non-null    float64\n",
            " 5   RA/9     639 non-null    float64\n",
            " 6   whip     639 non-null    float64\n",
            " 7   vs_RA/9  639 non-null    float64\n",
            " 8   vs_whip  639 non-null    float64\n",
            " 9   득점       639 non-null    int64  \n",
            " 10  실점       639 non-null    int64  \n",
            " 11  결과       639 non-null    object \n",
            "dtypes: float64(7), int64(4), object(1)\n",
            "memory usage: 64.9+ KB\n"
          ],
          "name": "stdout"
        }
      ]
    },
    {
      "cell_type": "code",
      "metadata": {
        "id": "crHZVoOCHvbP",
        "colab_type": "code",
        "colab": {}
      },
      "source": [
        "train_data= np.asarray(df_z[(df_z['시즌']!= 2019) & (df_z['시즌']!= 2020)].drop('시즌', axis=1)).astype(np.float32)\n",
        "val_data= np.asarray(df_z[df_z['시즌']==2019].drop('시즌', axis=1)).astype(np.float32)\n",
        "test_data= np.asarray(df_z[df_z['시즌']==2020].drop('시즌', axis=1)).astype(np.float32)"
      ],
      "execution_count": null,
      "outputs": []
    },
    {
      "cell_type": "code",
      "metadata": {
        "id": "LtlCoTjPc8of",
        "colab_type": "code",
        "colab": {
          "base_uri": "https://localhost:8080/",
          "height": 70
        },
        "outputId": "af84c74a-b11b-4700-8484-6154b4059b0e"
      },
      "source": [
        "print(\"shape of train data: {}\".format(train_data.shape))\n",
        "print(\"shape of val data: {}\".format(val_data.shape))\n",
        "print(\"shape of test data: {}\".format(test_data.shape))"
      ],
      "execution_count": null,
      "outputs": [
        {
          "output_type": "stream",
          "text": [
            "shape of train data: (432, 12)\n",
            "shape of val data: (144, 12)\n",
            "shape of test data: (63, 12)\n"
          ],
          "name": "stdout"
        }
      ]
    },
    {
      "cell_type": "code",
      "metadata": {
        "id": "6bzf8b-LH52G",
        "colab_type": "code",
        "colab": {}
      },
      "source": [
        "def make_dataset(data, seq_length=5, target_delay=0, strides=1):\n",
        "    sequence = []\n",
        "    target = []\n",
        "    for index in range(len(data) - seq_length - target_delay):\n",
        "        if index % strides == 0:\n",
        "          sequence.append(data[index:index+seq_length])\n",
        "          target.append(data[index+seq_length+target_delay][-1])\n",
        "    return np.array(sequence), np.array(target)"
      ],
      "execution_count": null,
      "outputs": []
    },
    {
      "cell_type": "code",
      "metadata": {
        "id": "DhMZvokQH9Hl",
        "colab_type": "code",
        "colab": {}
      },
      "source": [
        "train_sequences, train_labels = make_dataset(train_data)\n",
        "val_sequences, val_labels = make_dataset(val_data)\n",
        "test_sequences, test_labels = make_dataset(test_data)"
      ],
      "execution_count": null,
      "outputs": []
    },
    {
      "cell_type": "code",
      "metadata": {
        "id": "3LtZ5um-H_Hv",
        "colab_type": "code",
        "colab": {}
      },
      "source": [
        "train_dataset = tf.data.Dataset.from_tensor_slices((train_sequences, train_labels))\n",
        "train_dataset = train_dataset.batch(batch_size)\n",
        "train_dataset = train_dataset.repeat()"
      ],
      "execution_count": null,
      "outputs": []
    },
    {
      "cell_type": "code",
      "metadata": {
        "id": "q0XbVnnXIBdh",
        "colab_type": "code",
        "colab": {
          "base_uri": "https://localhost:8080/",
          "height": 87
        },
        "outputId": "ebf37082-566e-4459-ade2-d00709d94057"
      },
      "source": [
        "test_dataset = tf.data.Dataset.from_tensor_slices((test_sequences, test_labels))\n",
        "test_dataset = test_dataset.batch(batch_size)\n",
        "print(test_dataset)\n",
        "print(test_labels)"
      ],
      "execution_count": null,
      "outputs": [
        {
          "output_type": "stream",
          "text": [
            "<BatchDataset shapes: ((None, 5, 12), (None,)), types: (tf.float32, tf.float32)>\n",
            "[0. 0. 0. 0. 0. 0. 0. 1. 0. 1. 0. 0. 0. 0. 0. 1. 1. 0. 1. 0. 0. 0. 0. 0.\n",
            " 0. 1. 0. 1. 1. 0. 1. 1. 0. 1. 0. 0. 0. 1. 0. 1. 0. 1. 0. 0. 1. 0. 0. 0.\n",
            " 1. 0. 0. 1. 1. 1. 0. 1. 0. 0.]\n"
          ],
          "name": "stdout"
        }
      ]
    },
    {
      "cell_type": "code",
      "metadata": {
        "id": "PfPh8YZTIHdj",
        "colab_type": "code",
        "colab": {}
      },
      "source": [
        "def eval_baseline(dataset, loss_fn):\n",
        "    mean_loss = tf.keras.metrics.Mean()\n",
        "    for sequences, targets in dataset:\n",
        "        predictions = sequences[:,-1,0]\n",
        "        loss = loss_fn(predictions, targets)\n",
        "        mean_loss(loss)\n",
        "        \n",
        "    print('Baseline Average Loss: {:.4f}'.format(mean_loss.result()))\n",
        "    return mean_loss.result()"
      ],
      "execution_count": null,
      "outputs": []
    },
    {
      "cell_type": "code",
      "metadata": {
        "id": "C0oMwksvIJ02",
        "colab_type": "code",
        "colab": {
          "base_uri": "https://localhost:8080/",
          "height": 34
        },
        "outputId": "5f1e0521-8a7a-497b-8506-2f443268f6fe"
      },
      "source": [
        "loss_object = tf.keras.losses.MeanSquaredError()\n",
        "baseline_loss = eval_baseline(test_dataset, loss_object)"
      ],
      "execution_count": null,
      "outputs": [
        {
          "output_type": "stream",
          "text": [
            "Baseline Average Loss: 13.6389\n"
          ],
          "name": "stdout"
        }
      ]
    },
    {
      "cell_type": "code",
      "metadata": {
        "id": "IYIgv0KOINEg",
        "colab_type": "code",
        "colab": {
          "base_uri": "https://localhost:8080/",
          "height": 193
        },
        "outputId": "772b36eb-8ea1-4916-83e5-ff0f24315949"
      },
      "source": [
        "for i in range(10):\n",
        "    data_idx = np.random.randint(len(test_sequences))\n",
        "    pred = test_sequences[data_idx, -1, -1]\n",
        "    pred = pred\n",
        "    target = test_labels[data_idx]\n",
        "    print('예측 경기결과: {:.1f} / 실제 경기결과: {:.1f} / 차이: {:.1f}'.format(\n",
        "        pred, target, pred - target))"
      ],
      "execution_count": null,
      "outputs": [
        {
          "output_type": "stream",
          "text": [
            "예측 경기결과: 0.0 / 실제 경기결과: 1.0 / 차이: -1.0\n",
            "예측 경기결과: 1.0 / 실제 경기결과: 0.0 / 차이: 1.0\n",
            "예측 경기결과: 0.0 / 실제 경기결과: 0.0 / 차이: 0.0\n",
            "예측 경기결과: 1.0 / 실제 경기결과: 0.0 / 차이: 1.0\n",
            "예측 경기결과: 0.0 / 실제 경기결과: 1.0 / 차이: -1.0\n",
            "예측 경기결과: 1.0 / 실제 경기결과: 1.0 / 차이: 0.0\n",
            "예측 경기결과: 0.0 / 실제 경기결과: 1.0 / 차이: -1.0\n",
            "예측 경기결과: 0.0 / 실제 경기결과: 0.0 / 차이: 0.0\n",
            "예측 경기결과: 0.0 / 실제 경기결과: 1.0 / 차이: -1.0\n",
            "예측 경기결과: 0.0 / 실제 경기결과: 0.0 / 차이: 0.0\n"
          ],
          "name": "stdout"
        }
      ]
    },
    {
      "cell_type": "code",
      "metadata": {
        "id": "bspRnM5qIXJg",
        "colab_type": "code",
        "colab": {}
      },
      "source": [
        "model = tf.keras.Sequential()"
      ],
      "execution_count": null,
      "outputs": []
    },
    {
      "cell_type": "code",
      "metadata": {
        "id": "klhybxP4JDc5",
        "colab_type": "code",
        "colab": {}
      },
      "source": [
        "num_layers = len(hidden_sizes)\n",
        "for i in range(num_layers - 1):\n",
        "    model.add(tf.keras.layers.LSTM(100,return_sequences=True))\n",
        "    model.add(tf.keras.layers.LSTM(100,return_sequences=False))\n",
        "    model.add(tf.keras.layers.Dense(1))"
      ],
      "execution_count": null,
      "outputs": []
    },
    {
      "cell_type": "code",
      "metadata": {
        "id": "ZRBNRs2XYckK",
        "colab_type": "code",
        "colab": {}
      },
      "source": [
        "for step, (sequences, targets) in enumerate(train_dataset.take(1)):\n",
        "    predictions = model(sequences)"
      ],
      "execution_count": null,
      "outputs": []
    },
    {
      "cell_type": "code",
      "metadata": {
        "id": "6zd1SbU5aaSv",
        "colab_type": "code",
        "colab": {}
      },
      "source": [
        "model.compile(loss=\"MSE\", \n",
        "              optimizer=tf.keras.optimizers.Adam(), \n",
        "              metrics=[\"MSE\"])"
      ],
      "execution_count": null,
      "outputs": []
    },
    {
      "cell_type": "code",
      "metadata": {
        "id": "4ySNDp4Saf0V",
        "colab_type": "code",
        "colab": {}
      },
      "source": [
        "checkpoint_path = './checkpoint/cp.ckpt'\n",
        "checkpoint_dir = os.path.dirname(checkpoint_path)\n",
        "checkpoint = tf.keras.callbacks.ModelCheckpoint(checkpoint_path,\n",
        "                             save_best_only=True,  \n",
        "                             verbose=1\n",
        "                            )"
      ],
      "execution_count": null,
      "outputs": []
    },
    {
      "cell_type": "code",
      "metadata": {
        "id": "dlrLTO5RatOl",
        "colab_type": "code",
        "colab": {
          "base_uri": "https://localhost:8080/",
          "height": 1000
        },
        "outputId": "c8177ae3-d86e-46c9-abf4-e37dbc1ff6fa"
      },
      "source": [
        "model.fit(train_dataset, steps_per_epoch = train_data.shape[1]/batch_size, \n",
        "          validation_data = val_dataset, \n",
        "          validation_steps= val_data.shape[1]/batch_size,\n",
        "          epochs= max_epochs,\n",
        "          callbacks= [checkpoint])"
      ],
      "execution_count": null,
      "outputs": [
        {
          "output_type": "stream",
          "text": [
            "Epoch 1/30\n",
            "1/1 [=====================>........] - ETA: 0s - loss: 0.2276 - MSE: 0.2276\n",
            "Epoch 00001: val_loss did not improve from 0.25534\n",
            "2/1 [=============================================] - 0s 11ms/step - loss: 0.2394 - MSE: 0.2394 - val_loss: 0.3931 - val_MSE: 0.3931\n",
            "Epoch 2/30\n",
            "1/1 [=====================>........] - ETA: 0s - loss: 0.2231 - MSE: 0.2231\n",
            "Epoch 00002: val_loss did not improve from 0.25534\n",
            "2/1 [=============================================] - 0s 8ms/step - loss: 0.2972 - MSE: 0.2972 - val_loss: 0.3077 - val_MSE: 0.3077\n",
            "Epoch 3/30\n",
            "1/1 [=====================>........] - ETA: 0s - loss: 0.1804 - MSE: 0.1804\n",
            "Epoch 00003: val_loss did not improve from 0.25534\n",
            "2/1 [=============================================] - 0s 8ms/step - loss: 0.1583 - MSE: 0.1583 - val_loss: 0.2807 - val_MSE: 0.2807\n",
            "Epoch 4/30\n",
            "1/1 [=====================>........] - ETA: 0s - loss: 0.3247 - MSE: 0.3247\n",
            "Epoch 00004: val_loss did not improve from 0.25534\n",
            "2/1 [=============================================] - 0s 8ms/step - loss: 0.2863 - MSE: 0.2863 - val_loss: 0.2657 - val_MSE: 0.2657\n",
            "Epoch 5/30\n",
            "1/1 [=====================>........] - ETA: 0s - loss: 0.2385 - MSE: 0.2385\n",
            "Epoch 00005: val_loss did not improve from 0.25534\n",
            "2/1 [=============================================] - 0s 8ms/step - loss: 0.2427 - MSE: 0.2427 - val_loss: 0.2665 - val_MSE: 0.2665\n",
            "Epoch 6/30\n",
            "1/1 [=====================>........] - ETA: 0s - loss: 0.2546 - MSE: 0.2546\n",
            "Epoch 00006: val_loss did not improve from 0.25534\n",
            "2/1 [=============================================] - 0s 8ms/step - loss: 0.2540 - MSE: 0.2540 - val_loss: 0.2733 - val_MSE: 0.2733\n",
            "Epoch 7/30\n",
            "1/1 [=====================>........] - ETA: 0s - loss: 0.2429 - MSE: 0.2429\n",
            "Epoch 00007: val_loss did not improve from 0.25534\n",
            "2/1 [=============================================] - 0s 8ms/step - loss: 0.2535 - MSE: 0.2535 - val_loss: 0.2822 - val_MSE: 0.2822\n",
            "Epoch 8/30\n",
            "1/1 [=====================>........] - ETA: 0s - loss: 0.2790 - MSE: 0.2790\n",
            "Epoch 00008: val_loss did not improve from 0.25534\n",
            "2/1 [=============================================] - 0s 8ms/step - loss: 0.3143 - MSE: 0.3143 - val_loss: 0.2783 - val_MSE: 0.2783\n",
            "Epoch 9/30\n",
            "1/1 [=====================>........] - ETA: 0s - loss: 0.3169 - MSE: 0.3169\n",
            "Epoch 00009: val_loss did not improve from 0.25534\n",
            "2/1 [=============================================] - 0s 8ms/step - loss: 0.3601 - MSE: 0.3601 - val_loss: 0.2707 - val_MSE: 0.2707\n",
            "Epoch 10/30\n",
            "1/1 [=====================>........] - ETA: 0s - loss: 0.2615 - MSE: 0.2615\n",
            "Epoch 00010: val_loss did not improve from 0.25534\n",
            "2/1 [=============================================] - 0s 8ms/step - loss: 0.2671 - MSE: 0.2671 - val_loss: 0.2696 - val_MSE: 0.2696\n",
            "Epoch 11/30\n",
            "1/1 [=====================>........] - ETA: 0s - loss: 0.2282 - MSE: 0.2282\n",
            "Epoch 00011: val_loss did not improve from 0.25534\n",
            "2/1 [=============================================] - 0s 8ms/step - loss: 0.2030 - MSE: 0.2030 - val_loss: 0.2841 - val_MSE: 0.2841\n",
            "Epoch 12/30\n",
            "1/1 [=====================>........] - ETA: 0s - loss: 0.2925 - MSE: 0.2925\n",
            "Epoch 00012: val_loss did not improve from 0.25534\n",
            "2/1 [=============================================] - 0s 9ms/step - loss: 0.2625 - MSE: 0.2625 - val_loss: 0.2944 - val_MSE: 0.2944\n",
            "Epoch 13/30\n",
            "1/1 [=====================>........] - ETA: 0s - loss: 0.4262 - MSE: 0.4262\n",
            "Epoch 00013: val_loss did not improve from 0.25534\n",
            "2/1 [=============================================] - 0s 8ms/step - loss: 0.3158 - MSE: 0.3158 - val_loss: 0.2704 - val_MSE: 0.2704\n",
            "Epoch 14/30\n",
            "1/1 [=====================>........] - ETA: 0s - loss: 0.2616 - MSE: 0.2616\n",
            "Epoch 00014: val_loss did not improve from 0.25534\n",
            "2/1 [=============================================] - 0s 8ms/step - loss: 0.3125 - MSE: 0.3125 - val_loss: 0.2554 - val_MSE: 0.2554\n",
            "Epoch 15/30\n",
            "1/1 [=====================>........] - ETA: 0s - loss: 0.2270 - MSE: 0.2270\n",
            "Epoch 00015: val_loss did not improve from 0.25534\n",
            "2/1 [=============================================] - 0s 8ms/step - loss: 0.2398 - MSE: 0.2398 - val_loss: 0.2611 - val_MSE: 0.2611\n",
            "Epoch 16/30\n",
            "1/1 [=====================>........] - ETA: 0s - loss: 0.2309 - MSE: 0.2309\n",
            "Epoch 00016: val_loss did not improve from 0.25534\n",
            "2/1 [=============================================] - 0s 8ms/step - loss: 0.2780 - MSE: 0.2780 - val_loss: 0.2741 - val_MSE: 0.2741\n",
            "Epoch 17/30\n",
            "1/1 [=====================>........] - ETA: 0s - loss: 0.1883 - MSE: 0.1883\n",
            "Epoch 00017: val_loss did not improve from 0.25534\n",
            "2/1 [=============================================] - 0s 8ms/step - loss: 0.2169 - MSE: 0.2169 - val_loss: 0.2897 - val_MSE: 0.2897\n",
            "Epoch 18/30\n",
            "1/1 [=====================>........] - ETA: 0s - loss: 0.2671 - MSE: 0.2671\n",
            "Epoch 00018: val_loss did not improve from 0.25534\n",
            "2/1 [=============================================] - 0s 9ms/step - loss: 0.2573 - MSE: 0.2573 - val_loss: 0.3263 - val_MSE: 0.3263\n",
            "Epoch 19/30\n",
            "1/1 [=====================>........] - ETA: 0s - loss: 0.2182 - MSE: 0.2182\n",
            "Epoch 00019: val_loss did not improve from 0.25534\n",
            "2/1 [=============================================] - 0s 8ms/step - loss: 0.2081 - MSE: 0.2081 - val_loss: 0.4093 - val_MSE: 0.4093\n",
            "Epoch 20/30\n",
            "1/1 [=====================>........] - ETA: 0s - loss: 0.2643 - MSE: 0.2643\n",
            "Epoch 00020: val_loss did not improve from 0.25534\n",
            "2/1 [=============================================] - 0s 8ms/step - loss: 0.2787 - MSE: 0.2787 - val_loss: 0.4756 - val_MSE: 0.4756\n",
            "Epoch 21/30\n",
            "1/1 [=====================>........] - ETA: 0s - loss: 0.1666 - MSE: 0.1666\n",
            "Epoch 00021: val_loss did not improve from 0.25534\n",
            "2/1 [=============================================] - 0s 8ms/step - loss: 0.3173 - MSE: 0.3173 - val_loss: 0.4841 - val_MSE: 0.4841\n",
            "Epoch 22/30\n",
            "1/1 [=====================>........] - ETA: 0s - loss: 0.3644 - MSE: 0.3644\n",
            "Epoch 00022: val_loss did not improve from 0.25534\n",
            "2/1 [=============================================] - 0s 8ms/step - loss: 0.3653 - MSE: 0.3653 - val_loss: 0.4061 - val_MSE: 0.4061\n",
            "Epoch 23/30\n",
            "1/1 [=====================>........] - ETA: 0s - loss: 0.2532 - MSE: 0.2532\n",
            "Epoch 00023: val_loss did not improve from 0.25534\n",
            "2/1 [=============================================] - 0s 10ms/step - loss: 0.2488 - MSE: 0.2488 - val_loss: 0.3288 - val_MSE: 0.3288\n",
            "Epoch 24/30\n",
            "1/1 [=====================>........] - ETA: 0s - loss: 0.2875 - MSE: 0.2875\n",
            "Epoch 00024: val_loss did not improve from 0.25534\n",
            "2/1 [=============================================] - 0s 8ms/step - loss: 0.2972 - MSE: 0.2972 - val_loss: 0.3054 - val_MSE: 0.3054\n",
            "Epoch 25/30\n",
            "1/1 [=====================>........] - ETA: 0s - loss: 0.2199 - MSE: 0.2199\n",
            "Epoch 00025: val_loss did not improve from 0.25534\n",
            "2/1 [=============================================] - 0s 8ms/step - loss: 0.2526 - MSE: 0.2526 - val_loss: 0.2885 - val_MSE: 0.2885\n",
            "Epoch 26/30\n",
            "1/1 [=====================>........] - ETA: 0s - loss: 0.2797 - MSE: 0.2797\n",
            "Epoch 00026: val_loss did not improve from 0.25534\n",
            "2/1 [=============================================] - 0s 8ms/step - loss: 0.2670 - MSE: 0.2670 - val_loss: 0.2623 - val_MSE: 0.2623\n",
            "Epoch 27/30\n",
            "1/1 [=====================>........] - ETA: 0s - loss: 0.2783 - MSE: 0.2783\n",
            "Epoch 00027: val_loss did not improve from 0.25534\n",
            "2/1 [=============================================] - 0s 8ms/step - loss: 0.2684 - MSE: 0.2684 - val_loss: 0.2625 - val_MSE: 0.2625\n",
            "Epoch 28/30\n",
            "1/1 [=====================>........] - ETA: 0s - loss: 0.2831 - MSE: 0.2831\n",
            "Epoch 00028: val_loss did not improve from 0.25534\n",
            "2/1 [=============================================] - 0s 7ms/step - loss: 0.2658 - MSE: 0.2658 - val_loss: 0.2952 - val_MSE: 0.2952\n",
            "Epoch 29/30\n",
            "1/1 [=====================>........] - ETA: 0s - loss: 0.2292 - MSE: 0.2292\n",
            "Epoch 00029: val_loss did not improve from 0.25534\n",
            "2/1 [=============================================] - 0s 8ms/step - loss: 0.2560 - MSE: 0.2560 - val_loss: 0.3198 - val_MSE: 0.3198\n",
            "Epoch 30/30\n",
            "1/1 [=====================>........] - ETA: 0s - loss: 0.3974 - MSE: 0.3974\n",
            "Epoch 00030: val_loss did not improve from 0.25534\n",
            "2/1 [=============================================] - 0s 8ms/step - loss: 0.3165 - MSE: 0.3165 - val_loss: 0.3041 - val_MSE: 0.3041\n"
          ],
          "name": "stdout"
        },
        {
          "output_type": "execute_result",
          "data": {
            "text/plain": [
              "<tensorflow.python.keras.callbacks.History at 0x7ff375ad80b8>"
            ]
          },
          "metadata": {
            "tags": []
          },
          "execution_count": 289
        }
      ]
    },
    {
      "cell_type": "code",
      "metadata": {
        "id": "NuJStp_RnhGH",
        "colab_type": "code",
        "colab": {
          "base_uri": "https://localhost:8080/",
          "height": 52
        },
        "outputId": "4824a315-6cb9-40f2-b94b-d8f18e907e78"
      },
      "source": [
        "loss, acc = model.evaluate(test_sequences,  test_labels, verbose=2)\n",
        "print(\"복원된 모델의 정확도: {:5.2f}%\".format(100*acc))"
      ],
      "execution_count": null,
      "outputs": [
        {
          "output_type": "stream",
          "text": [
            "2/2 - 0s - loss: 0.2421 - MSE: 0.2421\n",
            "복원된 모델의 정확도: 24.21%\n"
          ],
          "name": "stdout"
        }
      ]
    },
    {
      "cell_type": "code",
      "metadata": {
        "id": "3eLFXqvuaw8Y",
        "colab_type": "code",
        "colab": {}
      },
      "source": [
        "model = tf.keras.Sequential()\n",
        "num_layers = len(hidden_sizes)\n",
        "\n",
        "for i in range(num_layers - 1):\n",
        "    model.add(tf.keras.layers.LSTM(hidden_sizes[0],return_sequences=True))\n",
        "    model.add(tf.keras.layers.LSTM(hidden_sizes[-1],return_sequences=False))\n",
        "    model.add(tf.keras.layers.Dense(1))\n",
        "    model.compile(loss=\"MSE\", \n",
        "              optimizer=tf.keras.optimizers.Adam(), \n",
        "              metrics=[\"MSE\"])"
      ],
      "execution_count": null,
      "outputs": []
    },
    {
      "cell_type": "code",
      "metadata": {
        "id": "scJ_yyownSX6",
        "colab_type": "code",
        "colab": {
          "base_uri": "https://localhost:8080/",
          "height": 52
        },
        "outputId": "c9c0ccec-651d-48d5-e367-5cf3bdb733a0"
      },
      "source": [
        "loss, acc = model.evaluate(test_sequences,  test_labels, verbose=2)\n",
        "print(\"복원된 모델의 정확도: {:5.2f}%\".format(100*acc))"
      ],
      "execution_count": null,
      "outputs": [
        {
          "output_type": "stream",
          "text": [
            "2/2 - 0s - loss: 0.6067 - MSE: 0.6067\n",
            "복원된 모델의 정확도: 60.67%\n"
          ],
          "name": "stdout"
        }
      ]
    },
    {
      "cell_type": "code",
      "metadata": {
        "id": "UpqH2Bmtgvqi",
        "colab_type": "code",
        "colab": {
          "base_uri": "https://localhost:8080/",
          "height": 193
        },
        "outputId": "2b473597-f8bc-4b63-8e00-736f0fd3d58d"
      },
      "source": [
        "for sequences, targets in train_dataset.take(1):\n",
        "    outputs = model(sequences)\n",
        "    print(outputs)"
      ],
      "execution_count": null,
      "outputs": [
        {
          "output_type": "stream",
          "text": [
            "tf.Tensor(\n",
            "[[-0.09230894]\n",
            " [-0.09701811]\n",
            " [-0.10126693]\n",
            " [-0.09724387]\n",
            " [-0.12011196]\n",
            " [-0.11684848]\n",
            " [-0.10861947]\n",
            " [-0.11267105]\n",
            " [-0.11559678]], shape=(9, 1), dtype=float32)\n"
          ],
          "name": "stdout"
        }
      ]
    },
    {
      "cell_type": "code",
      "metadata": {
        "id": "w4Hp4cEigx7r",
        "colab_type": "code",
        "colab": {
          "base_uri": "https://localhost:8080/",
          "height": 34
        },
        "outputId": "c4b57aca-910c-470a-c926-199b2dc389a6"
      },
      "source": [
        "model.load_weights(checkpoint_dir)"
      ],
      "execution_count": null,
      "outputs": [
        {
          "output_type": "execute_result",
          "data": {
            "text/plain": [
              "<tensorflow.python.training.tracking.util.CheckpointLoadStatus at 0x7ff374bd77b8>"
            ]
          },
          "metadata": {
            "tags": []
          },
          "execution_count": 286
        }
      ]
    },
    {
      "cell_type": "code",
      "metadata": {
        "id": "oCOGoY41g0A4",
        "colab_type": "code",
        "colab": {
          "base_uri": "https://localhost:8080/",
          "height": 34
        },
        "outputId": "ec393bd7-eb3f-49dc-d6ab-7a7a0a855d02"
      },
      "source": [
        "_, test_loss = model.evaluate(test_dataset, steps=len(test_sequences)/batch_size)"
      ],
      "execution_count": null,
      "outputs": [
        {
          "output_type": "stream",
          "text": [
            "7/6 [================================] - 0s 2ms/step - loss: 0.3551 - MSE: 0.3551\n"
          ],
          "name": "stdout"
        }
      ]
    },
    {
      "cell_type": "code",
      "metadata": {
        "id": "4ucohPT8joMm",
        "colab_type": "code",
        "colab": {
          "base_uri": "https://localhost:8080/",
          "height": 193
        },
        "outputId": "6340ea27-6da1-4510-9791-996fb9a67347"
      },
      "source": [
        "for i in range(10):\n",
        "    data_idx = np.random.randint(len(test_sequences))\n",
        "    pred = test_sequences[data_idx, -1, -1]\n",
        "    pred = pred\n",
        "    target = test_labels[data_idx]\n",
        "    print('예측 경기결과: {:.1f} / 실제 경기결과: {:.1f} / 차이: {:.1f}'.format(\n",
        "        pred, target, pred - target))"
      ],
      "execution_count": null,
      "outputs": [
        {
          "output_type": "stream",
          "text": [
            "예측 경기결과: 0.0 / 실제 경기결과: 1.0 / 차이: -1.0\n",
            "예측 경기결과: 0.0 / 실제 경기결과: 0.0 / 차이: 0.0\n",
            "예측 경기결과: 0.0 / 실제 경기결과: 1.0 / 차이: -1.0\n",
            "예측 경기결과: 1.0 / 실제 경기결과: 0.0 / 차이: 1.0\n",
            "예측 경기결과: 0.0 / 실제 경기결과: 1.0 / 차이: -1.0\n",
            "예측 경기결과: 1.0 / 실제 경기결과: 0.0 / 차이: 1.0\n",
            "예측 경기결과: 1.0 / 실제 경기결과: 1.0 / 차이: 0.0\n",
            "예측 경기결과: 1.0 / 실제 경기결과: 0.0 / 차이: 1.0\n",
            "예측 경기결과: 0.0 / 실제 경기결과: 1.0 / 차이: -1.0\n",
            "예측 경기결과: 0.0 / 실제 경기결과: 0.0 / 차이: 0.0\n"
          ],
          "name": "stdout"
        }
      ]
    },
    {
      "cell_type": "code",
      "metadata": {
        "id": "YepiVcKelm8N",
        "colab_type": "code",
        "colab": {
          "base_uri": "https://localhost:8080/",
          "height": 52
        },
        "outputId": "f8605bfd-5916-49ee-e236-04ab8f4f204e"
      },
      "source": [
        "loss, acc = model.evaluate(test_sequences,  test_labels, verbose=2)\n",
        "print(\"복원된 모델의 정확도: {:5.2f}%\".format(100*acc))"
      ],
      "execution_count": null,
      "outputs": [
        {
          "output_type": "stream",
          "text": [
            "2/2 - 0s - loss: 0.3551 - MSE: 0.3551\n",
            "복원된 모델의 정확도: 35.51%\n"
          ],
          "name": "stdout"
        }
      ]
    },
    {
      "cell_type": "code",
      "metadata": {
        "id": "6YOsqN95mWzu",
        "colab_type": "code",
        "colab": {}
      },
      "source": [
        ""
      ],
      "execution_count": null,
      "outputs": []
    }
  ]
}